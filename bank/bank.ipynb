{
 "cells": [
  {
   "cell_type": "markdown",
   "id": "2b958efd",
   "metadata": {},
   "source": [
    "## Задача проекта\n",
    "Нужно спрогнозировать, уйдёт клиент из банка в ближайшее время или нет. Предоставлены исторические данные о поведении клиентов и расторжении договоров с банком.\n",
    "Нужно построить модель с предельно большим значением F1-меры."
   ]
  },
  {
   "cell_type": "markdown",
   "id": "90e189dd",
   "metadata": {},
   "source": [
    "## Описание данных\n",
    "\n",
    "**Признаки**\n",
    "* RowNumber — индекс строки в данных\n",
    "* CustomerId — уникальный идентификатор клиента\n",
    "* Surname — фамилия\n",
    "* CreditScore — кредитный рейтинг\n",
    "* Geography — страна проживания\n",
    "* Gender — пол\n",
    "* Age — возраст\n",
    "* Tenure — сколько лет человек является клиентом банка\n",
    "* Balance — баланс на счёте\n",
    "* NumOfProducts — количество продуктов банка, используемых клиентом\n",
    "* HasCrCard — наличие кредитной карты\n",
    "* IsActiveMember — активность клиента\n",
    "* EstimatedSalary — предполагаемая зарплата\n",
    "\n",
    "**Целевой признак**\n",
    "* Exited — факт ухода клиента"
   ]
  },
  {
   "cell_type": "markdown",
   "id": "f5cc1752",
   "metadata": {},
   "source": [
    "---"
   ]
  },
  {
   "cell_type": "markdown",
   "id": "9becc9ca",
   "metadata": {},
   "source": [
    "## Подготовка данных"
   ]
  },
  {
   "cell_type": "code",
   "execution_count": 1,
   "id": "0b7d5432",
   "metadata": {},
   "outputs": [],
   "source": [
    "import pandas as pd\n",
    "import numpy as np\n",
    "from sklearn.model_selection import train_test_split\n",
    "from sklearn.linear_model import LogisticRegression\n",
    "from sklearn.ensemble import RandomForestClassifier\n",
    "from sklearn.metrics import f1_score\n",
    "from sklearn.utils import shuffle\n",
    "import matplotlib.pyplot as plt\n",
    "from sklearn.metrics import roc_auc_score\n",
    "\n",
    "from sklearn.preprocessing import OneHotEncoder\n",
    "from sklearn.preprocessing import OrdinalEncoder\n",
    "from sklearn import preprocessing\n",
    "from sklearn.preprocessing import StandardScaler\n",
    "from sklearn.metrics import roc_curve \n"
   ]
  },
  {
   "cell_type": "code",
   "execution_count": 2,
   "id": "3dd2f35a",
   "metadata": {},
   "outputs": [],
   "source": [
    "#открытие файла\n",
    "data=pd.read_csv(\"E:\\Churn.csv\")"
   ]
  },
  {
   "cell_type": "code",
   "execution_count": 3,
   "id": "51139fe6",
   "metadata": {},
   "outputs": [
    {
     "name": "stdout",
     "output_type": "stream",
     "text": [
      "<class 'pandas.core.frame.DataFrame'>\n",
      "RangeIndex: 10000 entries, 0 to 9999\n",
      "Data columns (total 14 columns):\n",
      " #   Column           Non-Null Count  Dtype  \n",
      "---  ------           --------------  -----  \n",
      " 0   RowNumber        10000 non-null  int64  \n",
      " 1   CustomerId       10000 non-null  int64  \n",
      " 2   Surname          10000 non-null  object \n",
      " 3   CreditScore      10000 non-null  int64  \n",
      " 4   Geography        10000 non-null  object \n",
      " 5   Gender           10000 non-null  object \n",
      " 6   Age              10000 non-null  int64  \n",
      " 7   Tenure           9091 non-null   float64\n",
      " 8   Balance          10000 non-null  float64\n",
      " 9   NumOfProducts    10000 non-null  int64  \n",
      " 10  HasCrCard        10000 non-null  int64  \n",
      " 11  IsActiveMember   10000 non-null  int64  \n",
      " 12  EstimatedSalary  10000 non-null  float64\n",
      " 13  Exited           10000 non-null  int64  \n",
      "dtypes: float64(3), int64(8), object(3)\n",
      "memory usage: 1.1+ MB\n"
     ]
    },
    {
     "data": {
      "text/html": [
       "<div>\n",
       "<style scoped>\n",
       "    .dataframe tbody tr th:only-of-type {\n",
       "        vertical-align: middle;\n",
       "    }\n",
       "\n",
       "    .dataframe tbody tr th {\n",
       "        vertical-align: top;\n",
       "    }\n",
       "\n",
       "    .dataframe thead th {\n",
       "        text-align: right;\n",
       "    }\n",
       "</style>\n",
       "<table border=\"1\" class=\"dataframe\">\n",
       "  <thead>\n",
       "    <tr style=\"text-align: right;\">\n",
       "      <th></th>\n",
       "      <th>RowNumber</th>\n",
       "      <th>CustomerId</th>\n",
       "      <th>CreditScore</th>\n",
       "      <th>Age</th>\n",
       "      <th>Tenure</th>\n",
       "      <th>Balance</th>\n",
       "      <th>NumOfProducts</th>\n",
       "      <th>HasCrCard</th>\n",
       "      <th>IsActiveMember</th>\n",
       "      <th>EstimatedSalary</th>\n",
       "      <th>Exited</th>\n",
       "    </tr>\n",
       "  </thead>\n",
       "  <tbody>\n",
       "    <tr>\n",
       "      <th>count</th>\n",
       "      <td>10000.00000</td>\n",
       "      <td>1.000000e+04</td>\n",
       "      <td>10000.000000</td>\n",
       "      <td>10000.000000</td>\n",
       "      <td>9091.000000</td>\n",
       "      <td>10000.000000</td>\n",
       "      <td>10000.000000</td>\n",
       "      <td>10000.00000</td>\n",
       "      <td>10000.000000</td>\n",
       "      <td>10000.000000</td>\n",
       "      <td>10000.000000</td>\n",
       "    </tr>\n",
       "    <tr>\n",
       "      <th>mean</th>\n",
       "      <td>5000.50000</td>\n",
       "      <td>1.569094e+07</td>\n",
       "      <td>650.528800</td>\n",
       "      <td>38.921800</td>\n",
       "      <td>4.997690</td>\n",
       "      <td>76485.889288</td>\n",
       "      <td>1.530200</td>\n",
       "      <td>0.70550</td>\n",
       "      <td>0.515100</td>\n",
       "      <td>100090.239881</td>\n",
       "      <td>0.203700</td>\n",
       "    </tr>\n",
       "    <tr>\n",
       "      <th>std</th>\n",
       "      <td>2886.89568</td>\n",
       "      <td>7.193619e+04</td>\n",
       "      <td>96.653299</td>\n",
       "      <td>10.487806</td>\n",
       "      <td>2.894723</td>\n",
       "      <td>62397.405202</td>\n",
       "      <td>0.581654</td>\n",
       "      <td>0.45584</td>\n",
       "      <td>0.499797</td>\n",
       "      <td>57510.492818</td>\n",
       "      <td>0.402769</td>\n",
       "    </tr>\n",
       "    <tr>\n",
       "      <th>min</th>\n",
       "      <td>1.00000</td>\n",
       "      <td>1.556570e+07</td>\n",
       "      <td>350.000000</td>\n",
       "      <td>18.000000</td>\n",
       "      <td>0.000000</td>\n",
       "      <td>0.000000</td>\n",
       "      <td>1.000000</td>\n",
       "      <td>0.00000</td>\n",
       "      <td>0.000000</td>\n",
       "      <td>11.580000</td>\n",
       "      <td>0.000000</td>\n",
       "    </tr>\n",
       "    <tr>\n",
       "      <th>25%</th>\n",
       "      <td>2500.75000</td>\n",
       "      <td>1.562853e+07</td>\n",
       "      <td>584.000000</td>\n",
       "      <td>32.000000</td>\n",
       "      <td>2.000000</td>\n",
       "      <td>0.000000</td>\n",
       "      <td>1.000000</td>\n",
       "      <td>0.00000</td>\n",
       "      <td>0.000000</td>\n",
       "      <td>51002.110000</td>\n",
       "      <td>0.000000</td>\n",
       "    </tr>\n",
       "    <tr>\n",
       "      <th>50%</th>\n",
       "      <td>5000.50000</td>\n",
       "      <td>1.569074e+07</td>\n",
       "      <td>652.000000</td>\n",
       "      <td>37.000000</td>\n",
       "      <td>5.000000</td>\n",
       "      <td>97198.540000</td>\n",
       "      <td>1.000000</td>\n",
       "      <td>1.00000</td>\n",
       "      <td>1.000000</td>\n",
       "      <td>100193.915000</td>\n",
       "      <td>0.000000</td>\n",
       "    </tr>\n",
       "    <tr>\n",
       "      <th>75%</th>\n",
       "      <td>7500.25000</td>\n",
       "      <td>1.575323e+07</td>\n",
       "      <td>718.000000</td>\n",
       "      <td>44.000000</td>\n",
       "      <td>7.000000</td>\n",
       "      <td>127644.240000</td>\n",
       "      <td>2.000000</td>\n",
       "      <td>1.00000</td>\n",
       "      <td>1.000000</td>\n",
       "      <td>149388.247500</td>\n",
       "      <td>0.000000</td>\n",
       "    </tr>\n",
       "    <tr>\n",
       "      <th>max</th>\n",
       "      <td>10000.00000</td>\n",
       "      <td>1.581569e+07</td>\n",
       "      <td>850.000000</td>\n",
       "      <td>92.000000</td>\n",
       "      <td>10.000000</td>\n",
       "      <td>250898.090000</td>\n",
       "      <td>4.000000</td>\n",
       "      <td>1.00000</td>\n",
       "      <td>1.000000</td>\n",
       "      <td>199992.480000</td>\n",
       "      <td>1.000000</td>\n",
       "    </tr>\n",
       "  </tbody>\n",
       "</table>\n",
       "</div>"
      ],
      "text/plain": [
       "         RowNumber    CustomerId   CreditScore           Age       Tenure  \\\n",
       "count  10000.00000  1.000000e+04  10000.000000  10000.000000  9091.000000   \n",
       "mean    5000.50000  1.569094e+07    650.528800     38.921800     4.997690   \n",
       "std     2886.89568  7.193619e+04     96.653299     10.487806     2.894723   \n",
       "min        1.00000  1.556570e+07    350.000000     18.000000     0.000000   \n",
       "25%     2500.75000  1.562853e+07    584.000000     32.000000     2.000000   \n",
       "50%     5000.50000  1.569074e+07    652.000000     37.000000     5.000000   \n",
       "75%     7500.25000  1.575323e+07    718.000000     44.000000     7.000000   \n",
       "max    10000.00000  1.581569e+07    850.000000     92.000000    10.000000   \n",
       "\n",
       "             Balance  NumOfProducts    HasCrCard  IsActiveMember  \\\n",
       "count   10000.000000   10000.000000  10000.00000    10000.000000   \n",
       "mean    76485.889288       1.530200      0.70550        0.515100   \n",
       "std     62397.405202       0.581654      0.45584        0.499797   \n",
       "min         0.000000       1.000000      0.00000        0.000000   \n",
       "25%         0.000000       1.000000      0.00000        0.000000   \n",
       "50%     97198.540000       1.000000      1.00000        1.000000   \n",
       "75%    127644.240000       2.000000      1.00000        1.000000   \n",
       "max    250898.090000       4.000000      1.00000        1.000000   \n",
       "\n",
       "       EstimatedSalary        Exited  \n",
       "count     10000.000000  10000.000000  \n",
       "mean     100090.239881      0.203700  \n",
       "std       57510.492818      0.402769  \n",
       "min          11.580000      0.000000  \n",
       "25%       51002.110000      0.000000  \n",
       "50%      100193.915000      0.000000  \n",
       "75%      149388.247500      0.000000  \n",
       "max      199992.480000      1.000000  "
      ]
     },
     "metadata": {},
     "output_type": "display_data"
    },
    {
     "data": {
      "text/html": [
       "<div>\n",
       "<style scoped>\n",
       "    .dataframe tbody tr th:only-of-type {\n",
       "        vertical-align: middle;\n",
       "    }\n",
       "\n",
       "    .dataframe tbody tr th {\n",
       "        vertical-align: top;\n",
       "    }\n",
       "\n",
       "    .dataframe thead th {\n",
       "        text-align: right;\n",
       "    }\n",
       "</style>\n",
       "<table border=\"1\" class=\"dataframe\">\n",
       "  <thead>\n",
       "    <tr style=\"text-align: right;\">\n",
       "      <th></th>\n",
       "      <th>RowNumber</th>\n",
       "      <th>CustomerId</th>\n",
       "      <th>Surname</th>\n",
       "      <th>CreditScore</th>\n",
       "      <th>Geography</th>\n",
       "      <th>Gender</th>\n",
       "      <th>Age</th>\n",
       "      <th>Tenure</th>\n",
       "      <th>Balance</th>\n",
       "      <th>NumOfProducts</th>\n",
       "      <th>HasCrCard</th>\n",
       "      <th>IsActiveMember</th>\n",
       "      <th>EstimatedSalary</th>\n",
       "      <th>Exited</th>\n",
       "    </tr>\n",
       "  </thead>\n",
       "  <tbody>\n",
       "    <tr>\n",
       "      <th>0</th>\n",
       "      <td>1</td>\n",
       "      <td>15634602</td>\n",
       "      <td>Hargrave</td>\n",
       "      <td>619</td>\n",
       "      <td>France</td>\n",
       "      <td>Female</td>\n",
       "      <td>42</td>\n",
       "      <td>2.0</td>\n",
       "      <td>0.00</td>\n",
       "      <td>1</td>\n",
       "      <td>1</td>\n",
       "      <td>1</td>\n",
       "      <td>101348.88</td>\n",
       "      <td>1</td>\n",
       "    </tr>\n",
       "    <tr>\n",
       "      <th>1</th>\n",
       "      <td>2</td>\n",
       "      <td>15647311</td>\n",
       "      <td>Hill</td>\n",
       "      <td>608</td>\n",
       "      <td>Spain</td>\n",
       "      <td>Female</td>\n",
       "      <td>41</td>\n",
       "      <td>1.0</td>\n",
       "      <td>83807.86</td>\n",
       "      <td>1</td>\n",
       "      <td>0</td>\n",
       "      <td>1</td>\n",
       "      <td>112542.58</td>\n",
       "      <td>0</td>\n",
       "    </tr>\n",
       "    <tr>\n",
       "      <th>2</th>\n",
       "      <td>3</td>\n",
       "      <td>15619304</td>\n",
       "      <td>Onio</td>\n",
       "      <td>502</td>\n",
       "      <td>France</td>\n",
       "      <td>Female</td>\n",
       "      <td>42</td>\n",
       "      <td>8.0</td>\n",
       "      <td>159660.80</td>\n",
       "      <td>3</td>\n",
       "      <td>1</td>\n",
       "      <td>0</td>\n",
       "      <td>113931.57</td>\n",
       "      <td>1</td>\n",
       "    </tr>\n",
       "    <tr>\n",
       "      <th>3</th>\n",
       "      <td>4</td>\n",
       "      <td>15701354</td>\n",
       "      <td>Boni</td>\n",
       "      <td>699</td>\n",
       "      <td>France</td>\n",
       "      <td>Female</td>\n",
       "      <td>39</td>\n",
       "      <td>1.0</td>\n",
       "      <td>0.00</td>\n",
       "      <td>2</td>\n",
       "      <td>0</td>\n",
       "      <td>0</td>\n",
       "      <td>93826.63</td>\n",
       "      <td>0</td>\n",
       "    </tr>\n",
       "    <tr>\n",
       "      <th>4</th>\n",
       "      <td>5</td>\n",
       "      <td>15737888</td>\n",
       "      <td>Mitchell</td>\n",
       "      <td>850</td>\n",
       "      <td>Spain</td>\n",
       "      <td>Female</td>\n",
       "      <td>43</td>\n",
       "      <td>2.0</td>\n",
       "      <td>125510.82</td>\n",
       "      <td>1</td>\n",
       "      <td>1</td>\n",
       "      <td>1</td>\n",
       "      <td>79084.10</td>\n",
       "      <td>0</td>\n",
       "    </tr>\n",
       "    <tr>\n",
       "      <th>...</th>\n",
       "      <td>...</td>\n",
       "      <td>...</td>\n",
       "      <td>...</td>\n",
       "      <td>...</td>\n",
       "      <td>...</td>\n",
       "      <td>...</td>\n",
       "      <td>...</td>\n",
       "      <td>...</td>\n",
       "      <td>...</td>\n",
       "      <td>...</td>\n",
       "      <td>...</td>\n",
       "      <td>...</td>\n",
       "      <td>...</td>\n",
       "      <td>...</td>\n",
       "    </tr>\n",
       "    <tr>\n",
       "      <th>9995</th>\n",
       "      <td>9996</td>\n",
       "      <td>15606229</td>\n",
       "      <td>Obijiaku</td>\n",
       "      <td>771</td>\n",
       "      <td>France</td>\n",
       "      <td>Male</td>\n",
       "      <td>39</td>\n",
       "      <td>5.0</td>\n",
       "      <td>0.00</td>\n",
       "      <td>2</td>\n",
       "      <td>1</td>\n",
       "      <td>0</td>\n",
       "      <td>96270.64</td>\n",
       "      <td>0</td>\n",
       "    </tr>\n",
       "    <tr>\n",
       "      <th>9996</th>\n",
       "      <td>9997</td>\n",
       "      <td>15569892</td>\n",
       "      <td>Johnstone</td>\n",
       "      <td>516</td>\n",
       "      <td>France</td>\n",
       "      <td>Male</td>\n",
       "      <td>35</td>\n",
       "      <td>10.0</td>\n",
       "      <td>57369.61</td>\n",
       "      <td>1</td>\n",
       "      <td>1</td>\n",
       "      <td>1</td>\n",
       "      <td>101699.77</td>\n",
       "      <td>0</td>\n",
       "    </tr>\n",
       "    <tr>\n",
       "      <th>9997</th>\n",
       "      <td>9998</td>\n",
       "      <td>15584532</td>\n",
       "      <td>Liu</td>\n",
       "      <td>709</td>\n",
       "      <td>France</td>\n",
       "      <td>Female</td>\n",
       "      <td>36</td>\n",
       "      <td>7.0</td>\n",
       "      <td>0.00</td>\n",
       "      <td>1</td>\n",
       "      <td>0</td>\n",
       "      <td>1</td>\n",
       "      <td>42085.58</td>\n",
       "      <td>1</td>\n",
       "    </tr>\n",
       "    <tr>\n",
       "      <th>9998</th>\n",
       "      <td>9999</td>\n",
       "      <td>15682355</td>\n",
       "      <td>Sabbatini</td>\n",
       "      <td>772</td>\n",
       "      <td>Germany</td>\n",
       "      <td>Male</td>\n",
       "      <td>42</td>\n",
       "      <td>3.0</td>\n",
       "      <td>75075.31</td>\n",
       "      <td>2</td>\n",
       "      <td>1</td>\n",
       "      <td>0</td>\n",
       "      <td>92888.52</td>\n",
       "      <td>1</td>\n",
       "    </tr>\n",
       "    <tr>\n",
       "      <th>9999</th>\n",
       "      <td>10000</td>\n",
       "      <td>15628319</td>\n",
       "      <td>Walker</td>\n",
       "      <td>792</td>\n",
       "      <td>France</td>\n",
       "      <td>Female</td>\n",
       "      <td>28</td>\n",
       "      <td>NaN</td>\n",
       "      <td>130142.79</td>\n",
       "      <td>1</td>\n",
       "      <td>1</td>\n",
       "      <td>0</td>\n",
       "      <td>38190.78</td>\n",
       "      <td>0</td>\n",
       "    </tr>\n",
       "  </tbody>\n",
       "</table>\n",
       "<p>10000 rows × 14 columns</p>\n",
       "</div>"
      ],
      "text/plain": [
       "      RowNumber  CustomerId    Surname  CreditScore Geography  Gender  Age  \\\n",
       "0             1    15634602   Hargrave          619    France  Female   42   \n",
       "1             2    15647311       Hill          608     Spain  Female   41   \n",
       "2             3    15619304       Onio          502    France  Female   42   \n",
       "3             4    15701354       Boni          699    France  Female   39   \n",
       "4             5    15737888   Mitchell          850     Spain  Female   43   \n",
       "...         ...         ...        ...          ...       ...     ...  ...   \n",
       "9995       9996    15606229   Obijiaku          771    France    Male   39   \n",
       "9996       9997    15569892  Johnstone          516    France    Male   35   \n",
       "9997       9998    15584532        Liu          709    France  Female   36   \n",
       "9998       9999    15682355  Sabbatini          772   Germany    Male   42   \n",
       "9999      10000    15628319     Walker          792    France  Female   28   \n",
       "\n",
       "      Tenure    Balance  NumOfProducts  HasCrCard  IsActiveMember  \\\n",
       "0        2.0       0.00              1          1               1   \n",
       "1        1.0   83807.86              1          0               1   \n",
       "2        8.0  159660.80              3          1               0   \n",
       "3        1.0       0.00              2          0               0   \n",
       "4        2.0  125510.82              1          1               1   \n",
       "...      ...        ...            ...        ...             ...   \n",
       "9995     5.0       0.00              2          1               0   \n",
       "9996    10.0   57369.61              1          1               1   \n",
       "9997     7.0       0.00              1          0               1   \n",
       "9998     3.0   75075.31              2          1               0   \n",
       "9999     NaN  130142.79              1          1               0   \n",
       "\n",
       "      EstimatedSalary  Exited  \n",
       "0           101348.88       1  \n",
       "1           112542.58       0  \n",
       "2           113931.57       1  \n",
       "3            93826.63       0  \n",
       "4            79084.10       0  \n",
       "...               ...     ...  \n",
       "9995         96270.64       0  \n",
       "9996        101699.77       0  \n",
       "9997         42085.58       1  \n",
       "9998         92888.52       1  \n",
       "9999         38190.78       0  \n",
       "\n",
       "[10000 rows x 14 columns]"
      ]
     },
     "execution_count": 3,
     "metadata": {},
     "output_type": "execute_result"
    }
   ],
   "source": [
    "#общая информация о таблице\n",
    "data.info()\n",
    "\n",
    "#общая информация о данных\n",
    "display(data.describe())\n",
    "\n",
    "#первые строки таблицы\n",
    "data"
   ]
  },
  {
   "cell_type": "markdown",
   "id": "dc6281a5",
   "metadata": {},
   "source": [
    "* Дана таблица с 14 столбцами, которые содержат в себе по 10000 строк (за исключением таблицы с пропусками Tenure). В таблице присутствуют столбцы  строкового типа а также целочисленного типа и числа с плавающей точкой.\n",
    "\n",
    "* При изучении данных были обнаружены пропуски в столбце Тenure (сколько лет человек является клиентом банка)-их удалим, так как невозможно их заполнить, а также они составляют меньше 5% от всех данных, поэтому удаление не повлечет за собой существенную потерю данны.\n",
    "-----"
   ]
  },
  {
   "cell_type": "markdown",
   "id": "151a4d2e",
   "metadata": {},
   "source": [
    "**Так как задача-ответ на вопрос:\"Уйдет ли клиент из банка?\"-бинарная классификация, то для дальнейшего обучения и предсказаний будем работать с двумя таблицами: таблица с кодировкой категориальных признаков методом onehotcoding для регрессии, таблица с кодировкой категориальных признаков методом OrdinalEncoder для модели случайного леса.**"
   ]
  },
  {
   "cell_type": "code",
   "execution_count": 4,
   "id": "398c039f",
   "metadata": {},
   "outputs": [],
   "source": [
    "#таблица для работы с методом случайного леса\n",
    "data_forest=pd.read_csv(\"E:\\\\Churn.csv\")\n",
    "\n",
    "#таблица для работы с методом логистической регрессии\n",
    "data_regression=pd.read_csv(\"E:\\\\Churn.csv\")"
   ]
  },
  {
   "cell_type": "code",
   "execution_count": 32,
   "id": "75da26d0",
   "metadata": {
    "scrolled": true
   },
   "outputs": [],
   "source": [
    "#удаление пропущенных значений\n",
    "data_forest=data_forest.dropna().reset_index()\n",
    "data_regression=data_regression.dropna().reset_index()"
   ]
  },
  {
   "cell_type": "markdown",
   "id": "fb8fe329",
   "metadata": {},
   "source": [
    "* Пропуски удалены"
   ]
  },
  {
   "cell_type": "markdown",
   "id": "0b6b60e7",
   "metadata": {},
   "source": [
    "### Вывод о первичной обработке данных\n",
    "* Для дальнейшего обчуения и предсказания было принято решение работать с двумя таблицами: data_forest-для кодировки категориальных признаков методом OrdinalEncoder, data_regression-для кодироовки категориальных признаков методом onehotcoding \n",
    "* Из таблиц data_forest и data_regression были обнаружены и удалены пропущенные значения в столбце Tenure.\n",
    "---"
   ]
  },
  {
   "cell_type": "markdown",
   "id": "920b354c",
   "metadata": {},
   "source": [
    "## Исследование задачи\n"
   ]
  },
  {
   "cell_type": "markdown",
   "id": "7ed8d825",
   "metadata": {},
   "source": [
    "<font size=\"2\"><b>Задача проекта-ответ на вопрос:\"Уйдет ли клиент из банка?\"-бинарная классификация, для дальнейшего обучения и предсказаний будем работать с двумя моделями: модель случайного леса и модель логистической регрессии.</b></font>"
   ]
  },
  {
   "cell_type": "markdown",
   "id": "28d5a6b0",
   "metadata": {},
   "source": [
    "* При изучении данных таблицы были обнаружены столбцы 'RowNumber', 'CustomerId', 'Surname','index',которые никак не влияют на целевой признак, поэтому для лучшей работы моделей их стоит удалить."
   ]
  },
  {
   "cell_type": "code",
   "execution_count": 6,
   "id": "9b527726",
   "metadata": {},
   "outputs": [],
   "source": [
    "#удаление столбцов 'RowNumber', 'CustomerId', 'Surname','index'\n",
    "data_forest=data_forest.drop(columns=['RowNumber', 'CustomerId', 'Surname','index'])\n",
    "data_regression=data_regression.drop(columns=['RowNumber', 'CustomerId', 'Surname','index'])"
   ]
  },
  {
   "cell_type": "markdown",
   "id": "a4077302",
   "metadata": {},
   "source": [
    "Так как модели не могут работать с категориальными признаками, то применим два способа кодировки для разных моделей:  "
   ]
  },
  {
   "cell_type": "code",
   "execution_count": 7,
   "id": "655c4963",
   "metadata": {},
   "outputs": [
    {
     "data": {
      "text/html": [
       "<div>\n",
       "<style scoped>\n",
       "    .dataframe tbody tr th:only-of-type {\n",
       "        vertical-align: middle;\n",
       "    }\n",
       "\n",
       "    .dataframe tbody tr th {\n",
       "        vertical-align: top;\n",
       "    }\n",
       "\n",
       "    .dataframe thead th {\n",
       "        text-align: right;\n",
       "    }\n",
       "</style>\n",
       "<table border=\"1\" class=\"dataframe\">\n",
       "  <thead>\n",
       "    <tr style=\"text-align: right;\">\n",
       "      <th></th>\n",
       "      <th>Surname</th>\n",
       "      <th>Geography</th>\n",
       "      <th>Gender</th>\n",
       "    </tr>\n",
       "  </thead>\n",
       "  <tbody>\n",
       "    <tr>\n",
       "      <th>0</th>\n",
       "      <td>Hargrave</td>\n",
       "      <td>France</td>\n",
       "      <td>Female</td>\n",
       "    </tr>\n",
       "    <tr>\n",
       "      <th>1</th>\n",
       "      <td>Hill</td>\n",
       "      <td>Spain</td>\n",
       "      <td>Female</td>\n",
       "    </tr>\n",
       "    <tr>\n",
       "      <th>2</th>\n",
       "      <td>Onio</td>\n",
       "      <td>France</td>\n",
       "      <td>Female</td>\n",
       "    </tr>\n",
       "    <tr>\n",
       "      <th>3</th>\n",
       "      <td>Boni</td>\n",
       "      <td>France</td>\n",
       "      <td>Female</td>\n",
       "    </tr>\n",
       "    <tr>\n",
       "      <th>4</th>\n",
       "      <td>Mitchell</td>\n",
       "      <td>Spain</td>\n",
       "      <td>Female</td>\n",
       "    </tr>\n",
       "    <tr>\n",
       "      <th>...</th>\n",
       "      <td>...</td>\n",
       "      <td>...</td>\n",
       "      <td>...</td>\n",
       "    </tr>\n",
       "    <tr>\n",
       "      <th>9995</th>\n",
       "      <td>Obijiaku</td>\n",
       "      <td>France</td>\n",
       "      <td>Male</td>\n",
       "    </tr>\n",
       "    <tr>\n",
       "      <th>9996</th>\n",
       "      <td>Johnstone</td>\n",
       "      <td>France</td>\n",
       "      <td>Male</td>\n",
       "    </tr>\n",
       "    <tr>\n",
       "      <th>9997</th>\n",
       "      <td>Liu</td>\n",
       "      <td>France</td>\n",
       "      <td>Female</td>\n",
       "    </tr>\n",
       "    <tr>\n",
       "      <th>9998</th>\n",
       "      <td>Sabbatini</td>\n",
       "      <td>Germany</td>\n",
       "      <td>Male</td>\n",
       "    </tr>\n",
       "    <tr>\n",
       "      <th>9999</th>\n",
       "      <td>Walker</td>\n",
       "      <td>France</td>\n",
       "      <td>Female</td>\n",
       "    </tr>\n",
       "  </tbody>\n",
       "</table>\n",
       "<p>10000 rows × 3 columns</p>\n",
       "</div>"
      ],
      "text/plain": [
       "        Surname Geography  Gender\n",
       "0      Hargrave    France  Female\n",
       "1          Hill     Spain  Female\n",
       "2          Onio    France  Female\n",
       "3          Boni    France  Female\n",
       "4      Mitchell     Spain  Female\n",
       "...         ...       ...     ...\n",
       "9995   Obijiaku    France    Male\n",
       "9996  Johnstone    France    Male\n",
       "9997        Liu    France  Female\n",
       "9998  Sabbatini   Germany    Male\n",
       "9999     Walker    France  Female\n",
       "\n",
       "[10000 rows x 3 columns]"
      ]
     },
     "execution_count": 7,
     "metadata": {},
     "output_type": "execute_result"
    }
   ],
   "source": [
    "#находим категориальные признаки\n",
    "data.select_dtypes(include=['object']).copy()"
   ]
  },
  {
   "cell_type": "code",
   "execution_count": 8,
   "id": "b0f152c9",
   "metadata": {},
   "outputs": [],
   "source": [
    "#кодировка методом onehotcoding для регрессии\n",
    "\n",
    "#названия столбцов с категориальными признаками\n",
    "col=['Geography','Gender']\n",
    "\n",
    "#применение метода\n",
    "onehot_encoder =preprocessing.OneHotEncoder(drop='first',handle_unknown='error')\n",
    "onehot_encoder.fit(data_regression[col])\n",
    "a=pd.DataFrame(onehot_encoder.transform(data_regression[col]).toarray())\n",
    "a.columns = onehot_encoder.get_feature_names(['geography','gender'])\n",
    "#объединение таблицы с закодированными категориальными переменными с остальными признаками\n",
    "data_regression=a.join(data_regression)\n",
    "data_regression=data_regression.drop(columns=col)"
   ]
  },
  {
   "cell_type": "code",
   "execution_count": 33,
   "id": "abbba7f0",
   "metadata": {
    "scrolled": true
   },
   "outputs": [],
   "source": [
    "#кодировка для деревеьев методом OrdinalEncoder\n",
    "\n",
    "ord_enc = OrdinalEncoder()\n",
    "data_forest['Geography'] = ord_enc.fit_transform(data_forest[['Geography']])\n",
    "data_forest['Gender'] = ord_enc.fit_transform(data_forest[['Gender']])"
   ]
  },
  {
   "cell_type": "markdown",
   "id": "1ae437d3",
   "metadata": {},
   "source": [
    "Для обучения моделей данные нужно разделить на признаки и целевой признак. Также генеральную совокупность нужно разделить на три выборки: тренировочную, валидационную и тестовую (60:20:20).\n",
    "Исходя из задачи мы имеем: \n",
    "* Признаки\n",
    "RowNumber — индекс строки в данных\n",
    "CustomerId — уникальный идентификатор клиента\n",
    "Surname — фамилия\n",
    "CreditScore — кредитный рейтинг\n",
    "Geography — страна проживания\n",
    "Gender — пол\n",
    "Age — возраст\n",
    "Tenure — сколько лет человек является клиентом банка\n",
    "Balance — баланс на счёте\n",
    "NumOfProducts — количество продуктов банка, используемых клиентом\n",
    "HasCrCard — наличие кредитной карты\n",
    "IsActiveMember — активность клиента\n",
    "EstimatedSalary — предполагаемая зарплата\n",
    "* Целевой признак\n",
    "Exited — факт ухода клиента"
   ]
  },
  {
   "cell_type": "code",
   "execution_count": 11,
   "id": "b8832b78",
   "metadata": {},
   "outputs": [],
   "source": [
    "#для деревьев\n",
    "#разделение данных на три выборки: тренировочная, валидационную,тестовая\n",
    "data_temporary_forest,data_valid_forest=train_test_split(data_forest,test_size=0.2,random_state=1234)\n",
    "data_train_forest,data_test_forest=train_test_split(data_temporary_forest,test_size=0.25,random_state=1234)\n",
    "\n",
    "#признаки тренировочные\n",
    "data_train_forest_features=data_train_forest.drop('Exited',axis=1)\n",
    "\n",
    "#целевой признак тренировочный\n",
    "data_train_forest_target=data_train_forest['Exited']\n",
    "\n",
    "#признаки валидационные\n",
    "data_valid_forest_features=data_valid_forest.drop('Exited',axis=1)\n",
    "\n",
    "#целевой признак валидационный\n",
    "data_valid_forest_target=data_valid_forest['Exited']\n",
    "\n",
    "#признаки тестовые\n",
    "data_test_forest_features=data_test_forest.drop('Exited',axis=1)\n",
    "\n",
    "#целевой признак тестовый\n",
    "data_test_forest_target=data_test_forest['Exited']"
   ]
  },
  {
   "cell_type": "code",
   "execution_count": 12,
   "id": "1ad9ea2d",
   "metadata": {
    "scrolled": true
   },
   "outputs": [],
   "source": [
    "#для регрессии\n",
    "#разделение данных на три выборки: тренировочная, валидационную,тестовая\n",
    "data_temporary_regression,data_valid_regression=train_test_split(data_regression,test_size=0.2,random_state=1234)\n",
    "data_train_regression,data_test_regression=train_test_split(data_temporary_regression,test_size=0.25,random_state=1234)\n",
    "\n",
    "#признаки тренировочные\n",
    "data_train_regression_features=data_train_regression.drop('Exited',axis=1)\n",
    "\n",
    "#целевой признак тренировочный\n",
    "data_train_regression_target=data_train_regression['Exited']\n",
    "\n",
    "#признаки валидационные\n",
    "data_valid_regression_features=data_valid_regression.drop('Exited',axis=1)\n",
    "\n",
    "#целевой признак валидационный\n",
    "data_valid_regression_target=data_valid_regression['Exited']\n",
    "\n",
    "#признаки тестовые\n",
    "data_test_regression_features=data_test_regression.drop('Exited',axis=1)\n",
    "\n",
    "#целевой признак тестовый\n",
    "data_test_regression_target=data_test_forest['Exited']"
   ]
  },
  {
   "cell_type": "markdown",
   "id": "777d4827",
   "metadata": {},
   "source": [
    "Произведем масштабирование количественных признаков(всех количественных признаков, кроме бинарных) методом стандартизации данных.\n"
   ]
  },
  {
   "cell_type": "code",
   "execution_count": 13,
   "id": "8efd98e8",
   "metadata": {
    "scrolled": true
   },
   "outputs": [
    {
     "data": {
      "text/html": [
       "<div>\n",
       "<style scoped>\n",
       "    .dataframe tbody tr th:only-of-type {\n",
       "        vertical-align: middle;\n",
       "    }\n",
       "\n",
       "    .dataframe tbody tr th {\n",
       "        vertical-align: top;\n",
       "    }\n",
       "\n",
       "    .dataframe thead th {\n",
       "        text-align: right;\n",
       "    }\n",
       "</style>\n",
       "<table border=\"1\" class=\"dataframe\">\n",
       "  <thead>\n",
       "    <tr style=\"text-align: right;\">\n",
       "      <th></th>\n",
       "      <th>CreditScore</th>\n",
       "      <th>Geography</th>\n",
       "      <th>Gender</th>\n",
       "      <th>Age</th>\n",
       "      <th>Tenure</th>\n",
       "      <th>Balance</th>\n",
       "      <th>NumOfProducts</th>\n",
       "      <th>HasCrCard</th>\n",
       "      <th>IsActiveMember</th>\n",
       "      <th>EstimatedSalary</th>\n",
       "      <th>Exited</th>\n",
       "    </tr>\n",
       "  </thead>\n",
       "  <tbody>\n",
       "    <tr>\n",
       "      <th>0</th>\n",
       "      <td>619</td>\n",
       "      <td>0.0</td>\n",
       "      <td>0.0</td>\n",
       "      <td>42</td>\n",
       "      <td>2.0</td>\n",
       "      <td>0.00</td>\n",
       "      <td>1</td>\n",
       "      <td>1</td>\n",
       "      <td>1</td>\n",
       "      <td>101348.88</td>\n",
       "      <td>1</td>\n",
       "    </tr>\n",
       "    <tr>\n",
       "      <th>1</th>\n",
       "      <td>608</td>\n",
       "      <td>2.0</td>\n",
       "      <td>0.0</td>\n",
       "      <td>41</td>\n",
       "      <td>1.0</td>\n",
       "      <td>83807.86</td>\n",
       "      <td>1</td>\n",
       "      <td>0</td>\n",
       "      <td>1</td>\n",
       "      <td>112542.58</td>\n",
       "      <td>0</td>\n",
       "    </tr>\n",
       "    <tr>\n",
       "      <th>2</th>\n",
       "      <td>502</td>\n",
       "      <td>0.0</td>\n",
       "      <td>0.0</td>\n",
       "      <td>42</td>\n",
       "      <td>8.0</td>\n",
       "      <td>159660.80</td>\n",
       "      <td>3</td>\n",
       "      <td>1</td>\n",
       "      <td>0</td>\n",
       "      <td>113931.57</td>\n",
       "      <td>1</td>\n",
       "    </tr>\n",
       "  </tbody>\n",
       "</table>\n",
       "</div>"
      ],
      "text/plain": [
       "   CreditScore  Geography  Gender  Age  Tenure    Balance  NumOfProducts  \\\n",
       "0          619        0.0     0.0   42     2.0       0.00              1   \n",
       "1          608        2.0     0.0   41     1.0   83807.86              1   \n",
       "2          502        0.0     0.0   42     8.0  159660.80              3   \n",
       "\n",
       "   HasCrCard  IsActiveMember  EstimatedSalary  Exited  \n",
       "0          1               1        101348.88       1  \n",
       "1          0               1        112542.58       0  \n",
       "2          1               0        113931.57       1  "
      ]
     },
     "execution_count": 13,
     "metadata": {},
     "output_type": "execute_result"
    }
   ],
   "source": [
    "#нахождение количественных признаком\n",
    "data_forest.columns\n",
    "data_forest.head(3)"
   ]
  },
  {
   "cell_type": "code",
   "execution_count": 14,
   "id": "e23138a4",
   "metadata": {},
   "outputs": [],
   "source": [
    "#количественные признаки(кроме бинарных)\n",
    "numeric = ['CreditScore', 'Age', 'Tenure', 'Balance','NumOfProducts', 'EstimatedSalary']\n",
    "\n",
    "#стандартизация данных для дерева\n",
    "scaler_f=StandardScaler()\n",
    "scaler_f.fit(data_train_forest_features[numeric])\n",
    "\n",
    "data_train_forest_features[numeric] = scaler_f.transform(data_train_forest_features[numeric])\n",
    "\n",
    "data_valid_forest_features[numeric] = scaler_f.transform(data_valid_forest_features[numeric])\n",
    "\n",
    "data_test_forest_features[numeric] = scaler_f.transform(data_test_forest_features[numeric])\n"
   ]
  },
  {
   "cell_type": "code",
   "execution_count": 15,
   "id": "bcc50ac7",
   "metadata": {},
   "outputs": [],
   "source": [
    "#стандартизация данных для регрессии\n",
    "scaler_r=StandardScaler()\n",
    "scaler_r.fit(data_train_regression_features[numeric])\n",
    "\n",
    "data_train_regression_features[numeric] = scaler_r.transform(data_train_regression_features[numeric])\n",
    "\n",
    "data_valid_regression_features[numeric] = scaler_r.transform(data_valid_regression_features[numeric])\n",
    "\n",
    "data_test_regression_features[numeric] = scaler_r.transform(data_test_regression_features[numeric])\n"
   ]
  },
  {
   "cell_type": "code",
   "execution_count": 16,
   "id": "c8980e2d",
   "metadata": {
    "scrolled": true
   },
   "outputs": [
    {
     "name": "stdout",
     "output_type": "stream",
     "text": [
      "(5454, 11) (5454,) (1819, 11) (1819,) (1818, 11) (1818,)\n"
     ]
    }
   ],
   "source": [
    "#проверка размера выборок\n",
    "print(data_train_regression_features.shape,data_train_regression_target.shape,data_valid_regression_features.shape,data_valid_regression_target.shape,\n",
    "data_test_regression_features.shape,data_test_regression_target.shape)"
   ]
  },
  {
   "cell_type": "markdown",
   "id": "3f05d9b8",
   "metadata": {},
   "source": [
    "### Вывод о подготовке данных перед обучением моделей\n",
    "* Для дальнейшего обучения и предсказаний было принято решение работать с двумя моделями: модель случайного леса и модель логистической регрессии\n",
    "* Были удалены столбцы 'RowNumber', 'CustomerId', 'Surname', 'index',так как они никак не влияют на целевой признак.\n",
    "* Была произведена кодировка качественных признаков  методом onehotcoding для регрессии\n",
    "\n",
    "* Была произведена кодировка качественных признаков для деревеьев методом OrdinalEncoder\n",
    "\n",
    "* Было произведено масштабирование количественных признаков(всех количественных признаков, кроме бинарных) методом стандартизации данных.\n",
    "\n",
    "* Данные были  разделены на признаки и целевой признак. \n",
    "* Генеральная совокупность была разделена на тестовую, валидационную и тренировочную выборки.\n",
    "---\n"
   ]
  },
  {
   "cell_type": "markdown",
   "id": "44560afe",
   "metadata": {},
   "source": [
    "<font size=\"5\"><b>Обучение моделей</b></font>"
   ]
  },
  {
   "cell_type": "markdown",
   "id": "54fc4cdd",
   "metadata": {},
   "source": [
    "Обучение моделей без учета дисбаланса классов"
   ]
  },
  {
   "cell_type": "code",
   "execution_count": 17,
   "id": "a4d28642",
   "metadata": {},
   "outputs": [
    {
     "name": "stdout",
     "output_type": "stream",
     "text": [
      "f-1 метрика= 0.31237322515212984\n"
     ]
    }
   ],
   "source": [
    "#модель логистической регрессии\n",
    "model_regression=LogisticRegression(random_state=12345,solver='lbfgs')\n",
    "#обучение модели\n",
    "model_regression.fit(data_train_regression_features,data_train_regression_target)\n",
    "\n",
    "predictions_regression=model_regression.predict(data_valid_regression_features)\n",
    "\n",
    "#f-1 метрика\n",
    "print('f-1 метрика=',f1_score(data_valid_regression_target,predictions_regression))"
   ]
  },
  {
   "cell_type": "code",
   "execution_count": 18,
   "id": "d61ec426",
   "metadata": {
    "scrolled": true
   },
   "outputs": [
    {
     "name": "stdout",
     "output_type": "stream",
     "text": [
      "Максимальная метрика f1- 0.5897858319604613 была достигнута при глубине - 15 , количестве деревьей - 19\n"
     ]
    }
   ],
   "source": [
    "#обучение модели дерева\n",
    "best_model_forest=None\n",
    "best_result_forest=0\n",
    "depth_forest=0\n",
    "best_estimators=0\n",
    "\n",
    "#перебираем значения глубины от 1 до 19\n",
    "for depth in range(1,20):\n",
    "    #перебираем количество деревьев от 1 до 19\n",
    "    for estimators in range(1,20):\n",
    "        model=RandomForestClassifier(random_state=12345,max_depth=depth,n_estimators=estimators)\n",
    "        model.fit(data_train_forest_features,data_train_forest_target)\n",
    "        predictions=model.predict(data_valid_forest_features)\n",
    "        score=f1_score(data_valid_forest_target,predictions)\n",
    "        if score>best_result_forest:\n",
    "            best_model_forest=model\n",
    "            best_result_forest=score\n",
    "            depth_forest=depth\n",
    "            best_estimators=estimators\n",
    "print('Максимальная метрика f1-',best_result_forest,'была достигнута при глубине -',depth_forest,', количестве деревьей -',estimators)   \n"
   ]
  },
  {
   "cell_type": "markdown",
   "id": "4e7356e6",
   "metadata": {},
   "source": [
    "### Вывод о предсказанных данных и обученных моделей без учета дисбалансов классов\n",
    "Были обучены модели случайного леса и логистической регрессии, модели были протестированы на валидационной выборке по ним была посчитана F-1 метрика:\n",
    "* 0.31(логистическая регрессия)-метрика очень низкая,обученная модель не умеет прогнозировать верно положительный класс\n",
    "* 0.589(модель случайного леса с глубиной 15 и количеством деревьев-19)-метрика выше,чем у логистической регресси, но также далека от 1"
   ]
  },
  {
   "cell_type": "markdown",
   "id": "18a310a7",
   "metadata": {},
   "source": [
    "## Борьба с дисбалансом"
   ]
  },
  {
   "cell_type": "code",
   "execution_count": 19,
   "id": "a5575d1d",
   "metadata": {},
   "outputs": [
    {
     "data": {
      "text/plain": [
       "0    4332\n",
       "1    1122\n",
       "Name: Exited, dtype: int64"
      ]
     },
     "execution_count": 19,
     "metadata": {},
     "output_type": "execute_result"
    }
   ],
   "source": [
    "#проверка дисбаланса классов\n",
    "data_train_forest_target.value_counts()"
   ]
  },
  {
   "cell_type": "markdown",
   "id": "c62376c6",
   "metadata": {},
   "source": [
    "Положительного класса в 4 раза меньше. Для улучшения предсказания положительного класса применим методы борьбы с дисбалансом: взвешивание классов, увеличение выборки, уменьшение выборки."
   ]
  },
  {
   "cell_type": "markdown",
   "id": "f09b8647",
   "metadata": {},
   "source": [
    "<font size=\"3\"><b>Взвешивание классов</b></font>"
   ]
  },
  {
   "cell_type": "code",
   "execution_count": 20,
   "id": "4226fd36",
   "metadata": {},
   "outputs": [
    {
     "name": "stdout",
     "output_type": "stream",
     "text": [
      "Логистическая регрессия.\n",
      "f-1 метрика = 0.49630996309963105\n"
     ]
    }
   ],
   "source": [
    "#взвешивание классов для логистической регрессии\n",
    "model_regression=LogisticRegression(random_state=12345,solver='lbfgs',class_weight ='balanced')\n",
    "\n",
    "model_regression.fit(data_train_regression_features,data_train_regression_target)\n",
    "\n",
    "predictions_regression=model_regression.predict(data_valid_regression_features)\n",
    "print('Логистическая регрессия.')\n",
    "print('f-1 метрика =',f1_score(data_valid_regression_target,predictions_regression))\n"
   ]
  },
  {
   "cell_type": "code",
   "execution_count": 21,
   "id": "657cdbd7",
   "metadata": {
    "scrolled": false
   },
   "outputs": [
    {
     "name": "stdout",
     "output_type": "stream",
     "text": [
      "Модель случайного леса.\n",
      "Максимальная метрика f1 - 0.6136680613668062 была достигнута при глубине - 11 , количестве деревьей - 19\n"
     ]
    }
   ],
   "source": [
    "#взвешивание классов для модели случайного леса\n",
    "\n",
    "#обучение модели дерева\n",
    "best_model_forest2=None\n",
    "best_result_forest=0\n",
    "depth_forest=0\n",
    "best_estimators=0\n",
    "#перебираем значения глубины от 1 до 19\n",
    "for depth in range(1,20):\n",
    "    #перебираем количество деревьев от 1 до 19\n",
    "    for estimators in range(1,20):\n",
    "        model=RandomForestClassifier(random_state=12345,max_depth=depth,n_estimators=estimators,class_weight ='balanced')\n",
    "        model.fit(data_train_forest_features,data_train_forest_target)\n",
    "        predictions=model.predict(data_valid_forest_features)\n",
    "        score=f1_score(data_valid_forest_target,predictions)\n",
    "        if score>best_result_forest:\n",
    "            best_model_forest2=model\n",
    "            best_result_forest=score\n",
    "            depth_forest=depth\n",
    "            best_estimators=estimators\n",
    "print('Модель случайного леса.')            \n",
    "print('Максимальная метрика f1 -',best_result_forest,'была достигнута при глубине -',depth_forest,', количестве деревьей -',estimators)   \n"
   ]
  },
  {
   "cell_type": "markdown",
   "id": "bb4ba898",
   "metadata": {},
   "source": [
    "<font size=\"3\"><b>Метод уменьшения</b></font>"
   ]
  },
  {
   "cell_type": "code",
   "execution_count": 22,
   "id": "dd58a666",
   "metadata": {},
   "outputs": [],
   "source": [
    "#борьба с дисбалансом методом уменьшения\n",
    "\n",
    "def downsample(features, target, fraction):\n",
    "    features_zeros = features[target == 0]\n",
    "    features_ones = features[target == 1]\n",
    "    target_zeros = target[target == 0]\n",
    "    target_ones = target[target == 1]\n",
    "\n",
    "    features_downsampled = pd.concat(\n",
    "        [features_zeros.sample(frac=fraction, random_state=12345)] + [features_ones])\n",
    "    target_downsampled = pd.concat(\n",
    "        [target_zeros.sample(frac=fraction, random_state=12345)] + [target_ones])\n",
    "    \n",
    "    features_downsampled, target_downsampled = shuffle(\n",
    "        features_downsampled, target_downsampled, random_state=12345)\n",
    "    \n",
    "    return features_downsampled, target_downsampled\n",
    " \n",
    "#новые выборки с уменьшенным отрицательным классом\n",
    "data_train_regression_features_down, data_train_regression_target_down = downsample(data_train_regression_features, data_train_regression_target, 0.3)\n",
    "data_train_forest_features_down, data_train_forest_target_down = downsample(data_train_forest_features, data_train_forest_target, 0.4)"
   ]
  },
  {
   "cell_type": "code",
   "execution_count": 23,
   "id": "395705f8",
   "metadata": {},
   "outputs": [
    {
     "name": "stdout",
     "output_type": "stream",
     "text": [
      "Логистическая регрессия.\n",
      "F-1 метрика =  0.49795081967213123\n"
     ]
    }
   ],
   "source": [
    "#модель логистической регрессии с преобразованием дисбаланса методом уменьшения\n",
    "\n",
    "model_regression=LogisticRegression(random_state=12345,solver='lbfgs')\n",
    "\n",
    "model_regression.fit(data_train_regression_features_down, data_train_regression_target_down)\n",
    "\n",
    "predictions_regression=model_regression.predict(data_valid_regression_features)\n",
    "print('Логистическая регрессия.')\n",
    "print('F-1 метрика = ',f1_score(data_valid_regression_target,predictions_regression))\n"
   ]
  },
  {
   "cell_type": "code",
   "execution_count": 24,
   "id": "28fc8e5c",
   "metadata": {},
   "outputs": [
    {
     "name": "stdout",
     "output_type": "stream",
     "text": [
      "Модель случайного леса.\n",
      "Максимальная метрика f1 - 0.6149936467598475 была достигнута при глубине - 7 , количестве деревьей - 19\n"
     ]
    }
   ],
   "source": [
    "#модель случайного леса с преобразованием дисбаланса методом уменьшения\n",
    "\n",
    "#обучение модели дерева\n",
    "best_model_forest1=None\n",
    "best_result_forest=0\n",
    "depth_forest=0\n",
    "best_estimators=0\n",
    "#перебираем значения глубины от 1 до 19\n",
    "for depth in range(1,20):\n",
    "    #перебираем количество деревьев от 1 до 19\n",
    "    for estimators in range(1,20):\n",
    "        model=RandomForestClassifier(random_state=12345,max_depth=depth,n_estimators=estimators)\n",
    "        model.fit(data_train_forest_features_down, data_train_forest_target_down)\n",
    "        predictions=model.predict(data_valid_forest_features)\n",
    "        score=f1_score(data_valid_forest_target,predictions)\n",
    "        if score>best_result_forest:\n",
    "            best_model_forest1=model\n",
    "            best_result_forest=score\n",
    "            depth_forest=depth\n",
    "            best_estimators=estimators\n",
    "print('Модель случайного леса.')            \n",
    "print('Максимальная метрика f1 -',best_result_forest,'была достигнута при глубине -',depth_forest,', количестве деревьей -',estimators)   "
   ]
  },
  {
   "cell_type": "markdown",
   "id": "9101913b",
   "metadata": {},
   "source": [
    "<font size=\"3\"><b>Метод увеличения</b></font>"
   ]
  },
  {
   "cell_type": "code",
   "execution_count": 25,
   "id": "488a44a2",
   "metadata": {},
   "outputs": [],
   "source": [
    "#борьба с дисбалансом увеличением\n",
    "def upsample(features, target, repeat):\n",
    "    features_zeros = features[target == 0]\n",
    "    features_ones = features[target == 1]\n",
    "    target_zeros = target[target == 0]\n",
    "    target_ones = target[target == 1]\n",
    "\n",
    "    features_upsampled = pd.concat([features_zeros] + [features_ones] * repeat)\n",
    "    target_upsampled = pd.concat([target_zeros] + [target_ones] * repeat)\n",
    "    \n",
    "    features_upsampled, target_upsampled = shuffle(\n",
    "        features_upsampled, target_upsampled, random_state=12345)\n",
    "    \n",
    "    return features_upsampled, target_upsampled\n",
    "\n",
    "#новые выборки с увеличенным положительным классом\n",
    "data_train_regression_features_up, data_train_regression_target_up = upsample(data_train_regression_features, data_train_regression_target,4)\n",
    "data_train_forest_features_up, data_train_forest_target_up = upsample(data_train_forest_features, data_train_forest_target, 2)\n"
   ]
  },
  {
   "cell_type": "code",
   "execution_count": 26,
   "id": "dc5c795d",
   "metadata": {},
   "outputs": [
    {
     "name": "stdout",
     "output_type": "stream",
     "text": [
      "Логистическая регрессия.\n",
      "f-1 метрика =  0.49138712601994555\n"
     ]
    }
   ],
   "source": [
    "#модель логистической регрессии с преобразованием дисбаланса методом увеличения\n",
    "model_regression=LogisticRegression(random_state=12345,solver='lbfgs')\n",
    "\n",
    "model_regression.fit(data_train_regression_features_up, data_train_regression_target_up)\n",
    "\n",
    "predictions_regression=model_regression.predict(data_valid_regression_features)\n",
    "\n",
    "print('Логистическая регрессия.')\n",
    "print('f-1 метрика = ',f1_score(data_valid_regression_target,predictions_regression))\n"
   ]
  },
  {
   "cell_type": "code",
   "execution_count": 27,
   "id": "504052ca",
   "metadata": {},
   "outputs": [
    {
     "name": "stdout",
     "output_type": "stream",
     "text": [
      "Модель случайного леса.\n",
      "Максимальная метрика f1 - 0.6271186440677966 была достигнута при глубине - 9 , количестве деревьей - 19\n"
     ]
    }
   ],
   "source": [
    "#модель случайного леса с преобразованием дисбаланса методом увеличения\n",
    "\n",
    "#обучение модели дерева\n",
    "best_model_forest=None\n",
    "best_result_forest=0\n",
    "depth_forest=0\n",
    "best_estimators=0\n",
    "#перебираем значения глубины от 1 до 19\n",
    "for depth in range(1,20):\n",
    "    #перебираем количество деревьев от 1 до 19\n",
    "    for estimators in range(1,20):\n",
    "        model=RandomForestClassifier(random_state=12345,max_depth=depth,n_estimators=estimators)\n",
    "        model.fit(data_train_forest_features_up, data_train_forest_target_up)\n",
    "        predictions=model.predict(data_valid_forest_features)\n",
    "        score=f1_score(data_valid_forest_target,predictions)\n",
    "        if score>best_result_forest:\n",
    "            best_model_forest=model\n",
    "            best_result_forest=score\n",
    "            depth_forest=depth\n",
    "            best_estimators=estimators\n",
    "print('Модель случайного леса.')            \n",
    "print('Максимальная метрика f1 -',best_result_forest,'была достигнута при глубине -',depth_forest,', количестве деревьей -',estimators)   "
   ]
  },
  {
   "cell_type": "markdown",
   "id": "26eb39a3",
   "metadata": {},
   "source": [
    "### Вывод о предсказанных данных и обученных моделях при учете дисбаланса классов\n",
    "\n",
    "* Наибольший показатель метрики F-1 для модели логистической регресси(=0.49795081967213123) был достигнут при преобразованием дисбаланса методом уменьшения(показатель fraction = 0.3). \n",
    "\n",
    "* Наибольший показатель метрики F-1 для модели случайного леса (=0.6271186440677966 ) был достигнут при преобразовании дисбаланса методом увеличения(положительный класс увеличился в 2 раза) при глубине 9 и количестве деревьев = 19.\n",
    "\n",
    "<font size=\"3\"><b>Вывод</b></font>: наилчушая модель(исходя из тестирования на валидационной выборке)-  модель случайного дерева при преобразовании дисбаланса методом увеличения(положительный класс увеличился в 2 раза) при глубине 9 и количестве деревьев 19."
   ]
  },
  {
   "cell_type": "markdown",
   "id": "98cc92c4",
   "metadata": {},
   "source": [
    "<font size=\"3\"><b>Значения метрики AUC-ROC для наилучшей модели</b></font>"
   ]
  },
  {
   "cell_type": "code",
   "execution_count": 28,
   "id": "4582e35b",
   "metadata": {
    "scrolled": false
   },
   "outputs": [
    {
     "data": {
      "image/png": "[encoded data removed]",
      "text/plain": [
       "<Figure size 432x288 with 1 Axes>"
      ]
     },
     "metadata": {
      "needs_background": "light"
     },
     "output_type": "display_data"
    },
    {
     "name": "stdout",
     "output_type": "stream",
     "text": [
      "0.8600943169620405\n"
     ]
    }
   ],
   "source": [
    "#вероятность классов\n",
    "probabilities_valid = best_model_forest.predict_proba(data_valid_forest_features)\n",
    "#вероятность положительного класса\n",
    "probabilities_one_valid = probabilities_valid[:, 1]\n",
    "\n",
    "#значения FPR, значения TPR и рассмотренные пороги\n",
    "fpr, tpr, thresholds = roc_curve(data_valid_forest_target,probabilities_one_valid)\n",
    "\n",
    "plt.figure()\n",
    "# ROC-кривая\n",
    "plt.plot([0, 1], [0, 1], linestyle='--')\n",
    "plt.plot(fpr, tpr)\n",
    "plt.xlim([0.0,1.0]) \n",
    "plt.ylim([0.0,1.0])\n",
    "plt.xlabel('False Positive Rate')\n",
    "plt.ylabel('True Positive Rate')\n",
    "plt.title(\"ROC-кривая\") \n",
    "plt.show()\n",
    "\n",
    "\n",
    "auc_roc=roc_auc_score(data_valid_forest_target,probabilities_one_valid)\n",
    "\n",
    "print(auc_roc)"
   ]
  },
  {
   "cell_type": "markdown",
   "id": "09c832be",
   "metadata": {},
   "source": [
    "### Вывод исходя из метрики AUC-ROC\n",
    "Метрика для модели случайного дерева выше, чем для случайной модели."
   ]
  },
  {
   "cell_type": "markdown",
   "id": "c4cb3ec3",
   "metadata": {},
   "source": [
    "## Тестирование модели"
   ]
  },
  {
   "cell_type": "code",
   "execution_count": 29,
   "id": "49e37363",
   "metadata": {
    "scrolled": false
   },
   "outputs": [
    {
     "name": "stdout",
     "output_type": "stream",
     "text": [
      "f-1 =  0.5778401122019635\n",
      "auc_roc =  0.9438146743629878\n"
     ]
    }
   ],
   "source": [
    "#тестирование наилучшей модели на тестовой выборке\n",
    "predictions=best_model_forest.predict(data_test_forest_features)\n",
    "print('f-1 = ',f1_score(data_test_forest_target,predictions))\n",
    "\n",
    "probabilities_valid = best_model_forest.predict_proba(data_train_forest_features)\n",
    "#вероятность положительного класса\n",
    "probabilities_one_valid = probabilities_valid[:, 1]\n",
    "\n",
    "auc_roc=roc_auc_score(data_train_forest_target,probabilities_one_valid)\n",
    "\n",
    "print('auc_roc = ',auc_roc)"
   ]
  },
  {
   "cell_type": "code",
   "execution_count": 30,
   "id": "fea5e82d",
   "metadata": {
    "scrolled": true
   },
   "outputs": [
    {
     "name": "stdout",
     "output_type": "stream",
     "text": [
      "f-1 =  0.597911227154047\n",
      "auc_roc =  0.8957201763438524\n"
     ]
    }
   ],
   "source": [
    "#тестирование модель случайного леса с преобразованием дисбаланса методом уменьшения на тестовой выборке\n",
    "predictions=best_model_forest1.predict(data_test_forest_features)\n",
    "print('f-1 = ',f1_score(data_test_forest_target,predictions))\n",
    "\n",
    "probabilities_valid = best_model_forest1.predict_proba(data_train_forest_features)\n",
    "#вероятность положительного класса\n",
    "probabilities_one_valid = probabilities_valid[:, 1]\n",
    "\n",
    "auc_roc=roc_auc_score(data_train_forest_target,probabilities_one_valid)\n",
    "\n",
    "print('auc_roc = ',auc_roc)"
   ]
  },
  {
   "cell_type": "markdown",
   "id": "360a7ecf",
   "metadata": {},
   "source": [
    "## Вывод о проделанной работе\n",
    "* Изучена общая информация о предоставленных данных.\n",
    "* Данные были обработаны: избавилась от пропущенных значений.\n",
    "* Задача проекта -бинарная классификация, поэтому обучение и предсказание было сделано для двух таблиц: таблица с кодировкой категориальных признаков методом onehotcoding для регрессии, таблица с кодировкой категориальных признаков методом OrdinalEncoder для модели случайного леса.\n",
    "* Было произведено масштабирование количественных признаков (всех количественных признаков, кроме бинарных) методом стандартизации данных.\n",
    "* Данные были разделены на признаки и целевой признак. Генеральная совокупность была разделена на тестовую, валидационную и тренировочную выборки в соотношении 60:20:20.\n",
    "* Были обучены модели линейной регрессии(F-1 метрика = 0.31) и случайного леса(F-1 метрика = 0.589) без учета дисбаланса классов.\n",
    "* Борьба с дисбалансом была проведена тремя методами: взвешивание классов, метод уменьшения, метод увеличения. Для каждого метода была рассчитана F-1 метрика и найдена наилучшая модель.\n",
    "* Рассчитано значение метрики AUC-ROC для наилучшей модели."
   ]
  },
  {
   "cell_type": "markdown",
   "id": "848f50af",
   "metadata": {},
   "source": [
    "### Вывод из цели\n",
    "* Наибольший показатель f-1 метрики при тестировании на тестовой выборке показала модель случайного леса с преобразованием дисбаланса методом уменьшения(=0.5979)\n",
    "* Наилучшая модель исходя из тестирования на валидационной выборке при тестировании на тестовой выборке показала метрику f-1 хуже(=0.5778401122019635)\n",
    "* AUC_ROC метрика выше у наилучушей модели по валидационному тестированию, но для полученных данных метрика f-1 важнее, так как присутствует дисбаланс классов.\n",
    "\n",
    "<font size=\"3\"><b>Наилучшая модель при тестировании на тестовой выборке(f-1 =  0.5979) - модель случайного леса с преобразованием дисбаланса методом уменьшения с глубиной 5 и количеством деревьев 19. </b></font>"
   ]
  }
 ],
 "metadata": {
  "kernelspec": {
   "display_name": "Python 3",
   "language": "python",
   "name": "python3"
  },
  "language_info": {
   "codemirror_mode": {
    "name": "ipython",
    "version": 3
   },
   "file_extension": ".py",
   "mimetype": "text/x-python",
   "name": "python",
   "nbconvert_exporter": "python",
   "pygments_lexer": "ipython3",
   "version": "3.8.8"
  }
 },
 "nbformat": 4,
 "nbformat_minor": 5
}
