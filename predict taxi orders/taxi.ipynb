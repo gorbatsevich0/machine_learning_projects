{
 "cells": [
  {
   "cell_type": "markdown",
   "id": "108a12bd",
   "metadata": {},
   "source": [
    "# Прогнозирование заказов такси"
   ]
  },
  {
   "cell_type": "markdown",
   "id": "31a9f46c",
   "metadata": {},
   "source": [
    "**Цель проекта:** Построить модель, которая  будет предсказывать количество заказов такси на следующий час, чтобы привлекать больше водителей в период пиковой нагрузки. \n",
    "* Для обучения и тестирования модели представлены исторические данные компании \"Чётенькое такси\" о заказах такси в аэропортах.\n",
    "* Значение метрики RMSE на тестовой выборке должно быть не больше 48.\n"
   ]
  },
  {
   "cell_type": "markdown",
   "id": "3d4a85e5",
   "metadata": {},
   "source": [
    "**План проекта**:\n",
    "\n",
    "1. Загрузить данные и выполнить их ресемплирование по одному часу.\n",
    "2. Проанализировать данные.\n",
    "3. Обучить разные модели с различными гиперпараметрами. Сделать тестовую выборку размером 10% от исходных данных.\n",
    "4. Проверить данные на тестовой выборке и сделать выводы."
   ]
  },
  {
   "cell_type": "code",
   "execution_count": 1,
   "id": "96b23afd",
   "metadata": {},
   "outputs": [],
   "source": [
    "import pandas as pd\n",
    "import numpy as np\n",
    "from statsmodels.tsa.seasonal import seasonal_decompose\n",
    "from sklearn.model_selection import train_test_split\n",
    "from sklearn.linear_model import LinearRegression\n",
    "from sklearn.metrics import mean_squared_error\n",
    "from catboost import CatBoostRegressor\n",
    "from sklearn.ensemble import RandomForestRegressor\n",
    "from sklearn.model_selection import TimeSeriesSplit\n",
    "import matplotlib.pyplot as plt "
   ]
  },
  {
   "cell_type": "code",
   "execution_count": 2,
   "id": "2f69728a",
   "metadata": {},
   "outputs": [],
   "source": [
    "import warnings\n",
    "warnings.filterwarnings(\"ignore\")"
   ]
  },
  {
   "cell_type": "markdown",
   "id": "08b1082e",
   "metadata": {},
   "source": [
    "## Подготовка данных"
   ]
  },
  {
   "cell_type": "code",
   "execution_count": 3,
   "id": "9d073070",
   "metadata": {},
   "outputs": [],
   "source": [
    "#загрузка данных\n",
    "data=pd.read_csv(\"E:\\\\taxi.csv\",parse_dates=[0],index_col=[0])"
   ]
  },
  {
   "cell_type": "code",
   "execution_count": 4,
   "id": "d04b62cd",
   "metadata": {
    "scrolled": false
   },
   "outputs": [
    {
     "data": {
      "text/html": [
       "<div>\n",
       "<style scoped>\n",
       "    .dataframe tbody tr th:only-of-type {\n",
       "        vertical-align: middle;\n",
       "    }\n",
       "\n",
       "    .dataframe tbody tr th {\n",
       "        vertical-align: top;\n",
       "    }\n",
       "\n",
       "    .dataframe thead th {\n",
       "        text-align: right;\n",
       "    }\n",
       "</style>\n",
       "<table border=\"1\" class=\"dataframe\">\n",
       "  <thead>\n",
       "    <tr style=\"text-align: right;\">\n",
       "      <th></th>\n",
       "      <th>num_orders</th>\n",
       "    </tr>\n",
       "    <tr>\n",
       "      <th>datetime</th>\n",
       "      <th></th>\n",
       "    </tr>\n",
       "  </thead>\n",
       "  <tbody>\n",
       "    <tr>\n",
       "      <th>2018-03-01 00:00:00</th>\n",
       "      <td>9</td>\n",
       "    </tr>\n",
       "    <tr>\n",
       "      <th>2018-03-01 00:10:00</th>\n",
       "      <td>14</td>\n",
       "    </tr>\n",
       "    <tr>\n",
       "      <th>2018-03-01 00:20:00</th>\n",
       "      <td>28</td>\n",
       "    </tr>\n",
       "    <tr>\n",
       "      <th>2018-03-01 00:30:00</th>\n",
       "      <td>20</td>\n",
       "    </tr>\n",
       "    <tr>\n",
       "      <th>2018-03-01 00:40:00</th>\n",
       "      <td>32</td>\n",
       "    </tr>\n",
       "    <tr>\n",
       "      <th>...</th>\n",
       "      <td>...</td>\n",
       "    </tr>\n",
       "    <tr>\n",
       "      <th>2018-08-31 23:10:00</th>\n",
       "      <td>32</td>\n",
       "    </tr>\n",
       "    <tr>\n",
       "      <th>2018-08-31 23:20:00</th>\n",
       "      <td>24</td>\n",
       "    </tr>\n",
       "    <tr>\n",
       "      <th>2018-08-31 23:30:00</th>\n",
       "      <td>27</td>\n",
       "    </tr>\n",
       "    <tr>\n",
       "      <th>2018-08-31 23:40:00</th>\n",
       "      <td>39</td>\n",
       "    </tr>\n",
       "    <tr>\n",
       "      <th>2018-08-31 23:50:00</th>\n",
       "      <td>53</td>\n",
       "    </tr>\n",
       "  </tbody>\n",
       "</table>\n",
       "<p>26496 rows × 1 columns</p>\n",
       "</div>"
      ],
      "text/plain": [
       "                     num_orders\n",
       "datetime                       \n",
       "2018-03-01 00:00:00           9\n",
       "2018-03-01 00:10:00          14\n",
       "2018-03-01 00:20:00          28\n",
       "2018-03-01 00:30:00          20\n",
       "2018-03-01 00:40:00          32\n",
       "...                         ...\n",
       "2018-08-31 23:10:00          32\n",
       "2018-08-31 23:20:00          24\n",
       "2018-08-31 23:30:00          27\n",
       "2018-08-31 23:40:00          39\n",
       "2018-08-31 23:50:00          53\n",
       "\n",
       "[26496 rows x 1 columns]"
      ]
     },
     "execution_count": 4,
     "metadata": {},
     "output_type": "execute_result"
    }
   ],
   "source": [
    "#первые строки таблицы\n",
    "data"
   ]
  },
  {
   "cell_type": "markdown",
   "id": "50cd1f49",
   "metadata": {},
   "source": [
    "* Таблица содержит информацию о количестве заказов такси за каждые 10 минут."
   ]
  },
  {
   "cell_type": "code",
   "execution_count": 5,
   "id": "d0714443",
   "metadata": {},
   "outputs": [
    {
     "name": "stdout",
     "output_type": "stream",
     "text": [
      "<class 'pandas.core.frame.DataFrame'>\n",
      "DatetimeIndex: 26496 entries, 2018-03-01 00:00:00 to 2018-08-31 23:50:00\n",
      "Data columns (total 1 columns):\n",
      " #   Column      Non-Null Count  Dtype\n",
      "---  ------      --------------  -----\n",
      " 0   num_orders  26496 non-null  int64\n",
      "dtypes: int64(1)\n",
      "memory usage: 414.0 KB\n"
     ]
    }
   ],
   "source": [
    "#общая информация о таблице\n",
    "data.info()"
   ]
  },
  {
   "cell_type": "code",
   "execution_count": 6,
   "id": "1f96fe8f",
   "metadata": {},
   "outputs": [
    {
     "data": {
      "text/plain": [
       "num_orders    0\n",
       "dtype: int64"
      ]
     },
     "execution_count": 6,
     "metadata": {},
     "output_type": "execute_result"
    }
   ],
   "source": [
    "#проверка на пропуски\n",
    "data.isna().sum()"
   ]
  },
  {
   "cell_type": "markdown",
   "id": "09002fd6",
   "metadata": {},
   "source": [
    "* Пропуски в данных отсутствуют."
   ]
  },
  {
   "cell_type": "code",
   "execution_count": 7,
   "id": "e268238f",
   "metadata": {},
   "outputs": [
    {
     "data": {
      "text/plain": [
       "True"
      ]
     },
     "execution_count": 7,
     "metadata": {},
     "output_type": "execute_result"
    }
   ],
   "source": [
    "#проверка, что индекс монотонный\n",
    "data.index.is_monotonic"
   ]
  },
  {
   "cell_type": "markdown",
   "id": "8601d107",
   "metadata": {},
   "source": [
    "* Индекс монотонный, то есть даты стоят в верном порядке (по возрастанию)."
   ]
  },
  {
   "cell_type": "markdown",
   "id": "e17ba92f",
   "metadata": {},
   "source": [
    "**Задача проекта - предсказать количество заказов на следующий час, поэтому нужно выполнить ресемплирование по одному часу, дальнейшую работу проводить с суммой заказов за каждый час.**"
   ]
  },
  {
   "cell_type": "code",
   "execution_count": 8,
   "id": "14cd357d",
   "metadata": {},
   "outputs": [],
   "source": [
    "#ресемплирование по одному часу\n",
    "data=data.resample('1H').sum()"
   ]
  },
  {
   "cell_type": "markdown",
   "id": "b7eb47ca",
   "metadata": {},
   "source": [
    "## Анализ данных"
   ]
  },
  {
   "cell_type": "code",
   "execution_count": 9,
   "id": "4a3d0d72",
   "metadata": {},
   "outputs": [
    {
     "name": "stdout",
     "output_type": "stream",
     "text": [
      "2018-03-01 00:00:00 2018-08-31 23:00:00\n"
     ]
    }
   ],
   "source": [
    "#какой период времени дан для анализа\n",
    "print(data.index.min(),data.index.max())"
   ]
  },
  {
   "cell_type": "markdown",
   "id": "bb3951be",
   "metadata": {},
   "source": [
    "* Для анализа представлены данные в период с 1 марта по 31 августа 2018 года (6 месяцев, полгода). Поэтому анализ сезонности невозможен для данных."
   ]
  },
  {
   "cell_type": "code",
   "execution_count": 10,
   "id": "fab734b5",
   "metadata": {},
   "outputs": [],
   "source": [
    "# расклад временного ряда на три составляющие: тренд, сезонность и остаток \n",
    "decomposed=seasonal_decompose(data)"
   ]
  },
  {
   "cell_type": "code",
   "execution_count": 11,
   "id": "8937c635",
   "metadata": {},
   "outputs": [
    {
     "data": {
      "text/plain": [
       "<AxesSubplot:xlabel='datetime'>"
      ]
     },
     "execution_count": 11,
     "metadata": {},
     "output_type": "execute_result"
    },
    {
     "data": {
      "image/png": "[encoded data removed]",
      "text/plain": [
       "<Figure size 432x288 with 1 Axes>"
      ]
     },
     "metadata": {
      "needs_background": "light"
     },
     "output_type": "display_data"
    }
   ],
   "source": [
    "#график сезонности для одной недели\n",
    "decomposed.seasonal['2018-03-01':'2018-03-08'].plot()"
   ]
  },
  {
   "cell_type": "markdown",
   "id": "e89fe282",
   "metadata": {},
   "source": [
    "* Из графика было подтверждено, что для представленных данных сезонность отсутствует."
   ]
  },
  {
   "cell_type": "code",
   "execution_count": 12,
   "id": "5e50c62f",
   "metadata": {
    "scrolled": true
   },
   "outputs": [
    {
     "data": {
      "text/plain": [
       "<AxesSubplot:xlabel='datetime'>"
      ]
     },
     "execution_count": 12,
     "metadata": {},
     "output_type": "execute_result"
    },
    {
     "data": {
      "image/png": "[encoded data removed]",
      "text/plain": [
       "<Figure size 432x288 with 1 Axes>"
      ]
     },
     "metadata": {
      "needs_background": "light"
     },
     "output_type": "display_data"
    }
   ],
   "source": [
    "#график тренда\n",
    "decomposed.trend.plot()"
   ]
  },
  {
   "cell_type": "markdown",
   "id": "bee78ab3",
   "metadata": {},
   "source": [
    "* Исходя из полученного графика видно, что в период с марта по август суммарное количество заказов такси за час растет."
   ]
  },
  {
   "cell_type": "code",
   "execution_count": 13,
   "id": "eb2d4b78",
   "metadata": {},
   "outputs": [
    {
     "data": {
      "text/plain": [
       "<AxesSubplot:>"
      ]
     },
     "execution_count": 13,
     "metadata": {},
     "output_type": "execute_result"
    },
    {
     "data": {
      "image/png": "[encoded data removed]",
      "text/plain": [
       "<Figure size 432x288 with 1 Axes>"
      ]
     },
     "metadata": {
      "needs_background": "light"
     },
     "output_type": "display_data"
    }
   ],
   "source": [
    "#анализ выбросов в данных\n",
    "data.boxplot()"
   ]
  },
  {
   "cell_type": "markdown",
   "id": "c9344062",
   "metadata": {},
   "source": [
    "* Для анализа представлены значения количества заказов такси за час в аэропортах. Минимальное кол-во - 0 , максимальное более 400, что вполне реально (напрмер: прилет более 2-ух самолетов приблизительно в одно и то же время) , поэтому оставим данные без изменений."
   ]
  },
  {
   "cell_type": "markdown",
   "id": "ad665896",
   "metadata": {},
   "source": [
    "**Для дальнейшего обучения модели нужно создать признаки**"
   ]
  },
  {
   "cell_type": "code",
   "execution_count": 14,
   "id": "c02ed14c",
   "metadata": {},
   "outputs": [],
   "source": [
    "#функция для создания отстающих признаков и признака скользящего среднего\n",
    "def features(data,lag,window):\n",
    "    data_new = data.copy()\n",
    "#создание календарных и временных признаков\n",
    "#месяц \n",
    "    data_new['month']=data.index.month\n",
    "#день недели\n",
    "    data_new['dayofweek']=data.index.dayofweek\n",
    "#время(час)\n",
    "    data_new['hour']=data.index.hour\n",
    "    \n",
    "#отстающие признаки (lag- число лагов(отставаний))\n",
    "    for l in range(1,lag+1):\n",
    "        data_new['lag_{}'.format(l)]=data['num_orders'].shift(l)\n",
    "        \n",
    "#признак скользящего среднего(window-кол-во окон)\n",
    "    data_new['rolling_mean']=data['num_orders'].rolling(window).mean()\n",
    "    data_new=data_new.dropna()\n",
    "    return data_new"
   ]
  },
  {
   "cell_type": "code",
   "execution_count": 15,
   "id": "cf93eff6",
   "metadata": {},
   "outputs": [],
   "source": [
    "#создадим 3 набора данных с разными параметрами числа лагов и количества окон\n",
    "data1=features(data,5,10)\n",
    "data2=features(data,12,17)\n",
    "data3=features(data,15,18)"
   ]
  },
  {
   "cell_type": "markdown",
   "id": "614d5671",
   "metadata": {},
   "source": [
    "## Обучение"
   ]
  },
  {
   "cell_type": "markdown",
   "id": "242544dc",
   "metadata": {},
   "source": [
    "**Целевым признаком для данного проекта является кол-во заказов - 'num_orders' . Из условия тестовую выборку равна 10% от исходных данных.**"
   ]
  },
  {
   "cell_type": "code",
   "execution_count": 16,
   "id": "0d5b0273",
   "metadata": {},
   "outputs": [],
   "source": [
    "#функция для деления на тренировочную, тестовую выборки и для выделения целевого признака и признаков\n",
    "def data_for_model(data):\n",
    "#разделим данные на тренирвочную и тecтовую выборки\n",
    "    train,test=train_test_split(data,test_size=0.1,shuffle=False)\n",
    "#разделим на целевой признак и признаки\n",
    "    train_target=train['num_orders']\n",
    "    train_features=train.drop('num_orders',axis=1)\n",
    "#для тестовой выборки\n",
    "    test_target=test['num_orders']\n",
    "    test_features=test.drop('num_orders',axis=1)\n",
    "    return train_target,train_features,test_target,test_features"
   ]
  },
  {
   "cell_type": "code",
   "execution_count": 17,
   "id": "b3fe1c28",
   "metadata": {},
   "outputs": [],
   "source": [
    "#выборки для 1-го набора данных\n",
    "train_target1,train_features1,test_target1,test_features1=data_for_model(data1)"
   ]
  },
  {
   "cell_type": "code",
   "execution_count": 18,
   "id": "18547a35",
   "metadata": {},
   "outputs": [],
   "source": [
    "#выборки для 2-го набора данных\n",
    "train_target2,train_features2,test_target2,test_features2=data_for_model(data2)"
   ]
  },
  {
   "cell_type": "code",
   "execution_count": 19,
   "id": "b921dcf0",
   "metadata": {},
   "outputs": [],
   "source": [
    "#выборки для 3-го набора данных\n",
    "train_target3,train_features3,test_target3,test_features3=data_for_model(data3)"
   ]
  },
  {
   "cell_type": "markdown",
   "id": "acce6566",
   "metadata": {},
   "source": [
    "**Линейная регрессия**"
   ]
  },
  {
   "cell_type": "code",
   "execution_count": 20,
   "id": "c3ad2a30",
   "metadata": {},
   "outputs": [],
   "source": [
    "#обучение и предсказание линейной регрессии для 1-го набора данных\n",
    "lin_model_1=LinearRegression()\n",
    "lin_model_1.fit(train_features1,train_target1)\n",
    "lin_predictions_1=lin_model_1.predict(test_features1)"
   ]
  },
  {
   "cell_type": "code",
   "execution_count": 21,
   "id": "3fe89aba",
   "metadata": {},
   "outputs": [],
   "source": [
    "#обучение и предсказание линейной регрессии для 2-го набора данных\n",
    "lin_model_2=LinearRegression()\n",
    "lin_model_2.fit(train_features2,train_target2)\n",
    "lin_predictions_2=lin_model_2.predict(test_features2)"
   ]
  },
  {
   "cell_type": "code",
   "execution_count": 22,
   "id": "794d4018",
   "metadata": {},
   "outputs": [],
   "source": [
    "#обучение и предсказание линейной регрессии для 3-го набора данных\n",
    "lin_model_3=LinearRegression()\n",
    "lin_model_3.fit(train_features3,train_target3)\n",
    "lin_predictions_3=lin_model_3.predict(test_features3)"
   ]
  },
  {
   "cell_type": "markdown",
   "id": "1f1eb529",
   "metadata": {},
   "source": [
    "**Случайный лес**"
   ]
  },
  {
   "cell_type": "code",
   "execution_count": 23,
   "id": "83e1c966",
   "metadata": {},
   "outputs": [],
   "source": [
    "#функция кросс-валидации для случайного дерева\n",
    "def cross_valid_forest(data,k):    \n",
    "    #кросс-валидация проводится только на тренировочной выборке\n",
    "    train,test=train_test_split(data,test_size=0.1,shuffle=False)\n",
    "    \n",
    "    #для кросс-валидации временных рядов используется объект TimeSeriesSplit с 5 выборками\n",
    "    tscv = TimeSeriesSplit(n_splits=5)\n",
    "    \n",
    "    target=train['num_orders'].copy()\n",
    "    features=train.drop('num_orders',axis=1).copy()\n",
    "    \n",
    "    #перебор параметров глубины деревьев\n",
    "    max_depth=[10,20,30,40,50,60,70]\n",
    "    scores = []\n",
    "    metrics=[]\n",
    "    depth=[]\n",
    "    mean=0\n",
    "    print('Среднее значение метрики RMSE для {} набора данных'.format(k))\n",
    "    for i in max_depth:\n",
    "        depth.append(i)\n",
    "        print('при глубине равной', i)\n",
    "        a=mean\n",
    "        for tr_index, val_index in tscv.split(features):\n",
    "        \n",
    "            data_train_features, data_valid_features = features.iloc[tr_index], features.iloc[val_index]\n",
    "            data_train_target, data_valid_target = target.iloc[tr_index], target.iloc[val_index]\n",
    "            model=RandomForestRegressor(random_state=1234,max_depth=i)\n",
    "            model.fit(data_train_features,data_train_target)\n",
    "            predictions=model.predict(data_valid_features)\n",
    "            score=(mean_squared_error(data_valid_target,predictions))**0.5\n",
    "            scores.append(score)\n",
    "       #среднее значение метрики для 5 выборок\n",
    "            mean=sum(scores)/5\n",
    "        metrics.append(mean-a)\n",
    "        print(mean-a)\n",
    "    k=depth[metrics.index(min(metrics))]\n",
    "    print('Минимальное значение метрики = ',min(metrics),'было достигнуто при глубине = ',k)"
   ]
  },
  {
   "cell_type": "code",
   "execution_count": 24,
   "id": "23983003",
   "metadata": {},
   "outputs": [
    {
     "name": "stdout",
     "output_type": "stream",
     "text": [
      "Среднее значение метрики RMSE для 1 набора данных\n",
      "при глубине равной 10\n",
      "23.64800136307364\n",
      "при глубине равной 20\n",
      "23.45242118997954\n",
      "при глубине равной 30\n",
      "23.44668173839804\n",
      "при глубине равной 40\n",
      "23.44908969103946\n",
      "при глубине равной 50\n",
      "23.449089691039504\n",
      "при глубине равной 60\n",
      "23.44908969103949\n",
      "при глубине равной 70\n",
      "23.44908969103949\n",
      "Минимальное значение метрики =  23.44668173839804 было достигнуто при глубине =  30\n"
     ]
    }
   ],
   "source": [
    "cross_valid_forest(data1,1)"
   ]
  },
  {
   "cell_type": "code",
   "execution_count": 25,
   "id": "49d0637f",
   "metadata": {},
   "outputs": [
    {
     "name": "stdout",
     "output_type": "stream",
     "text": [
      "Среднее значение метрики RMSE для 2 набора данных\n",
      "при глубине равной 10\n",
      "24.612060592972092\n",
      "при глубине равной 20\n",
      "24.38542787176381\n",
      "при глубине равной 30\n",
      "24.378412239239175\n",
      "при глубине равной 40\n",
      "24.376912196583262\n",
      "при глубине равной 50\n",
      "24.376912196583234\n",
      "при глубине равной 60\n",
      "24.37691219658322\n",
      "при глубине равной 70\n",
      "24.37691219658322\n",
      "Минимальное значение метрики =  24.37691219658322 было достигнуто при глубине =  60\n"
     ]
    }
   ],
   "source": [
    "cross_valid_forest(data2,2)"
   ]
  },
  {
   "cell_type": "code",
   "execution_count": 26,
   "id": "925d3ad0",
   "metadata": {
    "scrolled": true
   },
   "outputs": [
    {
     "name": "stdout",
     "output_type": "stream",
     "text": [
      "Среднее значение метрики RMSE для 3 набора данных\n",
      "при глубине равной 10\n",
      "24.74655035338582\n",
      "при глубине равной 20\n",
      "24.47837402630475\n",
      "при глубине равной 30\n",
      "24.482095746310243\n",
      "при глубине равной 40\n",
      "24.479461281181372\n",
      "при глубине равной 50\n",
      "24.479461281181386\n",
      "при глубине равной 60\n",
      "24.479461281181358\n",
      "при глубине равной 70\n",
      "24.479461281181386\n",
      "Минимальное значение метрики =  24.47837402630475 было достигнуто при глубине =  20\n"
     ]
    }
   ],
   "source": [
    "cross_valid_forest(data3,3)"
   ]
  },
  {
   "cell_type": "markdown",
   "id": "77fef795",
   "metadata": {},
   "source": [
    "* Минимальное  среднее значение RMSE = 24.5 для модели случайного  леса было достигнуто при глубине = 20  для 1-го набора данных."
   ]
  },
  {
   "cell_type": "code",
   "execution_count": 27,
   "id": "3dd94249",
   "metadata": {},
   "outputs": [],
   "source": [
    "# обучение и предсказание наилучшей модели случайного леса\n",
    "forest_model=RandomForestRegressor(random_state=12345,max_depth=20)\n",
    "forest_model.fit(train_features1,train_target1)\n",
    "forest_prediction=forest_model.predict(test_features1)"
   ]
  },
  {
   "cell_type": "markdown",
   "id": "433bf5cd",
   "metadata": {},
   "source": [
    "**Градиентный бустинг при помощи библиотеки CatBoostRegressor**"
   ]
  },
  {
   "cell_type": "code",
   "execution_count": 28,
   "id": "8629ab93",
   "metadata": {},
   "outputs": [],
   "source": [
    "#функция для подбора параметром методом кросс-валидации для CatBoostRegressor\n",
    "def catboost(data,k):\n",
    "    print('Среднее значение метрики RMSE для {} набора данных'.format(k))\n",
    "    #для кросс-валидации временных рядов используется объект TimeSeriesSplit с 5 выборками\n",
    "    tscv = TimeSeriesSplit(n_splits=5)\n",
    "    \n",
    "    #кросс-валидация проводится только на тренировочной выборке\n",
    "    train,test=train_test_split(data,test_size=0.1,shuffle=False)\n",
    "\n",
    "    target=train['num_orders'].copy()\n",
    "    features=train.drop('num_orders',axis=1).copy()\n",
    "    \n",
    "    #перебор параметров максимального количества деревьев\n",
    "    iterations=[150,200,250,300,350]\n",
    "    metrics=[]\n",
    "    iter=[]\n",
    "    scores = []\n",
    "    mean=0\n",
    "    \n",
    "    for k in iterations:\n",
    "        iter.append(k)\n",
    "        print('iterations = ',k)\n",
    "        a=mean\n",
    "        for tr_index, val_index in tscv.split(features):\n",
    "        \n",
    "            train_features, valid_features = features.iloc[tr_index], features.iloc[val_index]\n",
    "            train_target, valid_target = target.iloc[tr_index], target.iloc[val_index]\n",
    "            \n",
    "            cat_model=CatBoostRegressor(loss_function=\"RMSE\", iterations=k,metric_period=100,random_state=12345) \n",
    "            cat_model.fit(train_features, train_target,verbose=False)\n",
    "            prediction=cat_model.predict(valid_features)\n",
    "            score = (mean_squared_error(valid_target,prediction))**0.5\n",
    "    \n",
    "            scores.append(score)\n",
    "            #среднее значение метрики для 5 выборок\n",
    "            mean=sum(scores)/5\n",
    "            \n",
    "        metrics.append(mean-a)\n",
    "        print(mean-a) \n",
    "\n",
    "    f=iter[metrics.index(min(metrics))]\n",
    "    print('Минимальное значение метрики = ',min(metrics),'было достигнуто при максимальном количестве деревьев = ',f)"
   ]
  },
  {
   "cell_type": "code",
   "execution_count": 29,
   "id": "378e3922",
   "metadata": {},
   "outputs": [
    {
     "name": "stdout",
     "output_type": "stream",
     "text": [
      "Среднее значение метрики RMSE для 1 набора данных\n",
      "iterations =  150\n",
      "22.77553784556438\n",
      "iterations =  200\n",
      "22.673414980057558\n",
      "iterations =  250\n",
      "22.790652357033416\n",
      "iterations =  300\n",
      "22.800417096446665\n",
      "iterations =  350\n",
      "22.60960538134755\n",
      "Минимальное значение метрики =  22.60960538134755 было достигнуто при максимальном количестве деревьев =  350\n"
     ]
    }
   ],
   "source": [
    "#подбор параметром методом кросс-валидации для CatBoostRegressor для 1-го набора данных\n",
    "catboost(data1,1)"
   ]
  },
  {
   "cell_type": "code",
   "execution_count": 30,
   "id": "c00abf84",
   "metadata": {},
   "outputs": [
    {
     "name": "stdout",
     "output_type": "stream",
     "text": [
      "Среднее значение метрики RMSE для 2 набора данных\n",
      "iterations =  150\n",
      "24.06600704986243\n",
      "iterations =  200\n",
      "23.731002781679297\n",
      "iterations =  250\n",
      "23.80264891151748\n",
      "iterations =  300\n",
      "23.92398702534328\n",
      "iterations =  350\n",
      "23.74377635512778\n",
      "Минимальное значение метрики =  23.731002781679297 было достигнуто при максимальном количестве деревьев =  200\n"
     ]
    }
   ],
   "source": [
    "#подбор параметром методом кросс-валидации для CatBoostRegressor для 2-го набора данных\n",
    "catboost(data2,2)"
   ]
  },
  {
   "cell_type": "code",
   "execution_count": 31,
   "id": "5302ef0d",
   "metadata": {},
   "outputs": [
    {
     "name": "stdout",
     "output_type": "stream",
     "text": [
      "Среднее значение метрики RMSE для 3 набора данных\n",
      "iterations =  150\n",
      "24.197022153522497\n",
      "iterations =  200\n",
      "24.124873952055594\n",
      "iterations =  250\n",
      "24.049656176251844\n",
      "iterations =  300\n",
      "23.967087218344886\n",
      "iterations =  350\n",
      "23.974541684459453\n",
      "Минимальное значение метрики =  23.967087218344886 было достигнуто при максимальном количестве деревьев =  300\n"
     ]
    }
   ],
   "source": [
    "#подбор параметром методом кросс-валидации для CatBoostRegressor для 3-го набора данных\n",
    "catboost(data3,3)"
   ]
  },
  {
   "cell_type": "markdown",
   "id": "a5b06140",
   "metadata": {},
   "source": [
    "* Минимальное  среднее значение RMSE = 23.09 для градиентного бустинга было достигнуто при маскимальном количестве деревьев = 350 для 1-го набора данных."
   ]
  },
  {
   "cell_type": "code",
   "execution_count": 32,
   "id": "d1fa2bdf",
   "metadata": {},
   "outputs": [
    {
     "name": "stdout",
     "output_type": "stream",
     "text": [
      "Learning rate set to 0.110768\n",
      "0:\tlearn: 36.4914484\ttotal: 2.31ms\tremaining: 807ms\n",
      "100:\tlearn: 18.1047002\ttotal: 227ms\tremaining: 559ms\n",
      "200:\tlearn: 15.3666710\ttotal: 430ms\tremaining: 319ms\n",
      "300:\tlearn: 13.7386188\ttotal: 634ms\tremaining: 103ms\n",
      "349:\tlearn: 13.0731615\ttotal: 735ms\tremaining: 0us\n"
     ]
    }
   ],
   "source": [
    "#обучение и предсказание наилучшей модели градиентного бустинга\n",
    "cat_model = CatBoostRegressor(loss_function=\"RMSE\", iterations=350,metric_period=100,random_state=12345) \n",
    "cat_model.fit(train_features1,train_target1)\n",
    "cat_prediction=cat_model.predict(test_features1)"
   ]
  },
  {
   "cell_type": "markdown",
   "id": "9baa01be",
   "metadata": {},
   "source": [
    "## Тестирование"
   ]
  },
  {
   "cell_type": "code",
   "execution_count": 33,
   "id": "4a92fcb4",
   "metadata": {},
   "outputs": [
    {
     "name": "stdout",
     "output_type": "stream",
     "text": [
      "1 47.1820161649594\n",
      "2 48.64586297237618\n",
      "3 43.625324422489854\n"
     ]
    }
   ],
   "source": [
    "#значение метрики для линейной регресси для 3-ёх наборов данных\n",
    "print(1,(mean_squared_error(test_target1,lin_predictions_1))**0.5)\n",
    "\n",
    "print(2,(mean_squared_error(test_target2,lin_predictions_2))**0.5)\n",
    "\n",
    "print(3,(mean_squared_error(test_target3,lin_predictions_3))**0.5)"
   ]
  },
  {
   "cell_type": "markdown",
   "id": "ae4d0408",
   "metadata": {},
   "source": [
    "* Минимальное  значение RMSE = 43.6 для линейной регрессии было достигнуто  для 3-го набора данных."
   ]
  },
  {
   "cell_type": "code",
   "execution_count": 34,
   "id": "edd49a42",
   "metadata": {},
   "outputs": [],
   "source": [
    "#список со значениями метрик\n",
    "df=[]\n",
    "#значение метрики для модели лийнейной регрессии\n",
    "linear_rmse=(mean_squared_error(test_target3,lin_predictions_3))**0.5\n",
    "df.append(linear_rmse)"
   ]
  },
  {
   "cell_type": "code",
   "execution_count": 35,
   "id": "625d6cd4",
   "metadata": {},
   "outputs": [],
   "source": [
    "#значение метрики для модели случайного леса\n",
    "forest_rmse=(mean_squared_error(test_target1,forest_prediction))**0.5\n",
    "df.append(forest_rmse)"
   ]
  },
  {
   "cell_type": "code",
   "execution_count": 36,
   "id": "1f2f9aa3",
   "metadata": {},
   "outputs": [],
   "source": [
    "#значение метрики для модели градиентного бустинга\n",
    "cat_rmse=(mean_squared_error(test_target1,cat_prediction))**0.5\n",
    "df.append(cat_rmse)"
   ]
  },
  {
   "cell_type": "code",
   "execution_count": 37,
   "id": "c37abf9c",
   "metadata": {},
   "outputs": [],
   "source": [
    "#значение наборов данных, для которых была рассчитана метрика\n",
    "datas=[3,1,1]\n",
    "#общий список со всеми данными для визуализации\n",
    "df=list(zip(datas,df))"
   ]
  },
  {
   "cell_type": "code",
   "execution_count": 38,
   "id": "d7fa0ba9",
   "metadata": {
    "scrolled": false
   },
   "outputs": [
    {
     "data": {
      "text/html": [
       "<div>\n",
       "<style scoped>\n",
       "    .dataframe tbody tr th:only-of-type {\n",
       "        vertical-align: middle;\n",
       "    }\n",
       "\n",
       "    .dataframe tbody tr th {\n",
       "        vertical-align: top;\n",
       "    }\n",
       "\n",
       "    .dataframe thead th {\n",
       "        text-align: right;\n",
       "    }\n",
       "</style>\n",
       "<table border=\"1\" class=\"dataframe\">\n",
       "  <thead>\n",
       "    <tr style=\"text-align: right;\">\n",
       "      <th></th>\n",
       "      <th>Data</th>\n",
       "      <th>RMSE</th>\n",
       "    </tr>\n",
       "  </thead>\n",
       "  <tbody>\n",
       "    <tr>\n",
       "      <th>Linear Regression</th>\n",
       "      <td>3</td>\n",
       "      <td>43.625324</td>\n",
       "    </tr>\n",
       "    <tr>\n",
       "      <th>Random Forest</th>\n",
       "      <td>1</td>\n",
       "      <td>41.102838</td>\n",
       "    </tr>\n",
       "    <tr>\n",
       "      <th>CatBoost Regression</th>\n",
       "      <td>1</td>\n",
       "      <td>39.199911</td>\n",
       "    </tr>\n",
       "  </tbody>\n",
       "</table>\n",
       "</div>"
      ],
      "text/plain": [
       "                     Data       RMSE\n",
       "Linear Regression       3  43.625324\n",
       "Random Forest           1  41.102838\n",
       "CatBoost Regression     1  39.199911"
      ]
     },
     "execution_count": 38,
     "metadata": {},
     "output_type": "execute_result"
    }
   ],
   "source": [
    "#таблица с наилучшими значениями метрик для разных моделей и различных наборов данных\n",
    "df=pd.DataFrame(df,index=['Linear Regression','Random Forest','CatBoost Regression'],columns=['Data','RMSE'])\n",
    "df"
   ]
  },
  {
   "cell_type": "markdown",
   "id": "1d10fe6f",
   "metadata": {},
   "source": [
    "* Наилучшей моделью является Random Forest, обученная на 1-ом наборе данных."
   ]
  },
  {
   "cell_type": "code",
   "execution_count": 39,
   "id": "33e2f93c",
   "metadata": {
    "scrolled": false
   },
   "outputs": [
    {
     "data": {
      "text/plain": [
       "Text(0, 0.5, 'taxi orders')"
      ]
     },
     "execution_count": 39,
     "metadata": {},
     "output_type": "execute_result"
    },
    {
     "data": {
      "text/plain": [
       "<Figure size 432x288 with 0 Axes>"
      ]
     },
     "metadata": {},
     "output_type": "display_data"
    },
    {
     "data": {
      "image/png": "[encoded data removed]",
      "text/plain": [
       "<Figure size 1080x720 with 1 Axes>"
      ]
     },
     "metadata": {
      "needs_background": "light"
     },
     "output_type": "display_data"
    }
   ],
   "source": [
    "#изобразим предсказания при помощи модели градиентного бустинга и целевой признак\n",
    "forest_prediction=pd.DataFrame(data=forest_prediction,index=test_target1.index)\n",
    "plt.figure()\n",
    "forest_prediction.plot()\n",
    "test_target1.plot(figsize=(15,10))\n",
    "plt.xlabel('Time')\n",
    "plt.ylabel('taxi orders')\n"
   ]
  },
  {
   "cell_type": "markdown",
   "id": "0383da1a",
   "metadata": {},
   "source": [
    "* Из представленного графика видно, что модель  предсказывает близкие значения , однако ошибается при \"выбросах\", поэтому значительно растет значение метрики RMSE."
   ]
  },
  {
   "cell_type": "markdown",
   "id": "48641195",
   "metadata": {},
   "source": [
    "## Вывод из цели\n",
    "* Наилучшей моделью является модель случайного леса RandomForestRegressor: значение RMSE = 40.1 было достигнуто при маскимальной глубине дерева = 20 для 1-го набора данных : 5 лагов(предыдущих значений), 10 окон (для вычисления скользящего окна)."
   ]
  },
  {
   "cell_type": "markdown",
   "id": "5eecaa23",
   "metadata": {},
   "source": [
    "## Вывод о проделанной работе\n",
    "\n",
    "*\tБыло произведено ресемплирование данных по одному часу, исходя из задачи проекта дальнейшая работа проводилась с суммой заказов за каждый час.\n",
    "*\tПроизведен анализ данных на сезонность, тренд и сделаны выводы: сезонность отсутствует, так как данные предоставлены в период с 1 марта по 31 августа 2018 года, в период с марта по август суммарное количество заказов такси за час растет.\n",
    "*\tДля обучения моделей были созданы признаки: отстающие признаки, признаки скользящего среднего, календарные и временные признаки.\n",
    "*\tБыло создана тренировочная и тестовая выборка (10% от исходных данных).\n",
    "*\tОбучены модели линейной регрессии, случайного леса, градиентного бустинга при помощи библиотеки CatBoostRegressor. Для каждой модели параметры подбирались методом кросс-валидации.\n",
    "*\tТестирование производилось на тестовой выборке, наилучшая модель находилась при помощи метрики RMSE.\n",
    "*\tНаилучшей моделью является модель случайного леса RandomForestRegressor: значение RMSE = 40.1 было достигнуто при максимальной глубине дерева = 20 для 1-го набора данных: 5 лагов (предыдущих значений), 10 окон (для вычисления скользящего окна). \n",
    "*\tНаилучшая модель предсказывает близкие значения, однако ошибается при \"выбросах\", поэтому значительно растет значение метрики RMSE.\n",
    "*\tЗадача проекта выполнена."
   ]
  }
 ],
 "metadata": {
  "ExecuteTimeLog": [
   {
    "duration": 58,
    "start_time": "2022-01-09T11:12:07.153Z"
   },
   {
    "duration": 202,
    "start_time": "2022-01-09T11:12:12.282Z"
   },
   {
    "duration": 1089,
    "start_time": "2022-01-09T11:12:19.246Z"
   },
   {
    "duration": 1631,
    "start_time": "2022-01-09T11:12:20.337Z"
   },
   {
    "duration": -132,
    "start_time": "2022-01-09T11:12:22.103Z"
   },
   {
    "duration": -135,
    "start_time": "2022-01-09T11:12:22.107Z"
   },
   {
    "duration": -159,
    "start_time": "2022-01-09T11:12:22.132Z"
   },
   {
    "duration": -168,
    "start_time": "2022-01-09T11:12:22.142Z"
   },
   {
    "duration": -177,
    "start_time": "2022-01-09T11:12:22.152Z"
   },
   {
    "duration": -190,
    "start_time": "2022-01-09T11:12:22.166Z"
   },
   {
    "duration": -192,
    "start_time": "2022-01-09T11:12:22.169Z"
   },
   {
    "duration": -193,
    "start_time": "2022-01-09T11:12:22.171Z"
   },
   {
    "duration": -213,
    "start_time": "2022-01-09T11:12:22.192Z"
   },
   {
    "duration": -221,
    "start_time": "2022-01-09T11:12:22.201Z"
   },
   {
    "duration": -222,
    "start_time": "2022-01-09T11:12:22.203Z"
   },
   {
    "duration": -250,
    "start_time": "2022-01-09T11:12:22.233Z"
   },
   {
    "duration": -273,
    "start_time": "2022-01-09T11:12:22.257Z"
   },
   {
    "duration": -300,
    "start_time": "2022-01-09T11:12:22.284Z"
   },
   {
    "duration": -300,
    "start_time": "2022-01-09T11:12:22.286Z"
   },
   {
    "duration": -304,
    "start_time": "2022-01-09T11:12:22.291Z"
   },
   {
    "duration": -332,
    "start_time": "2022-01-09T11:12:22.320Z"
   },
   {
    "duration": -361,
    "start_time": "2022-01-09T11:12:22.350Z"
   },
   {
    "duration": -362,
    "start_time": "2022-01-09T11:12:22.352Z"
   },
   {
    "duration": -363,
    "start_time": "2022-01-09T11:12:22.354Z"
   },
   {
    "duration": -378,
    "start_time": "2022-01-09T11:12:22.370Z"
   },
   {
    "duration": -381,
    "start_time": "2022-01-09T11:12:22.374Z"
   },
   {
    "duration": -388,
    "start_time": "2022-01-09T11:12:22.382Z"
   },
   {
    "duration": -390,
    "start_time": "2022-01-09T11:12:22.385Z"
   },
   {
    "duration": -396,
    "start_time": "2022-01-09T11:12:22.392Z"
   },
   {
    "duration": -405,
    "start_time": "2022-01-09T11:12:22.402Z"
   },
   {
    "duration": -422,
    "start_time": "2022-01-09T11:12:22.420Z"
   },
   {
    "duration": -423,
    "start_time": "2022-01-09T11:12:22.423Z"
   },
   {
    "duration": -432,
    "start_time": "2022-01-09T11:12:22.432Z"
   },
   {
    "duration": -465,
    "start_time": "2022-01-09T11:12:22.466Z"
   },
   {
    "duration": -466,
    "start_time": "2022-01-09T11:12:22.468Z"
   },
   {
    "duration": -480,
    "start_time": "2022-01-09T11:12:22.483Z"
   },
   {
    "duration": -497,
    "start_time": "2022-01-09T11:12:22.501Z"
   },
   {
    "duration": -510,
    "start_time": "2022-01-09T11:12:22.515Z"
   },
   {
    "duration": -514,
    "start_time": "2022-01-09T11:12:22.520Z"
   },
   {
    "duration": 38,
    "start_time": "2022-01-09T11:12:39.816Z"
   },
   {
    "duration": 15,
    "start_time": "2022-01-09T11:12:41.936Z"
   },
   {
    "duration": 7,
    "start_time": "2022-01-09T11:12:44.107Z"
   },
   {
    "duration": 6,
    "start_time": "2022-01-09T11:12:44.506Z"
   },
   {
    "duration": 5,
    "start_time": "2022-01-09T11:12:45.257Z"
   },
   {
    "duration": 9,
    "start_time": "2022-01-09T11:12:48.007Z"
   },
   {
    "duration": 4,
    "start_time": "2022-01-09T11:12:51.685Z"
   },
   {
    "duration": 6,
    "start_time": "2022-01-09T11:12:52.687Z"
   },
   {
    "duration": 277,
    "start_time": "2022-01-09T11:12:53.166Z"
   },
   {
    "duration": 5,
    "start_time": "2022-01-09T11:16:08.067Z"
   },
   {
    "duration": 41,
    "start_time": "2022-01-09T11:16:09.194Z"
   },
   {
    "duration": 45,
    "start_time": "2022-01-09T11:16:29.876Z"
   },
   {
    "duration": 39,
    "start_time": "2022-01-09T11:18:48.727Z"
   },
   {
    "duration": 1080,
    "start_time": "2022-01-09T11:19:01.041Z"
   },
   {
    "duration": 37,
    "start_time": "2022-01-09T11:19:02.122Z"
   },
   {
    "duration": 14,
    "start_time": "2022-01-09T11:19:02.161Z"
   },
   {
    "duration": 7,
    "start_time": "2022-01-09T11:19:02.177Z"
   },
   {
    "duration": 10,
    "start_time": "2022-01-09T11:19:02.185Z"
   },
   {
    "duration": 9,
    "start_time": "2022-01-09T11:19:02.197Z"
   },
   {
    "duration": 20,
    "start_time": "2022-01-09T11:19:02.207Z"
   },
   {
    "duration": 7,
    "start_time": "2022-01-09T11:19:02.229Z"
   },
   {
    "duration": 17,
    "start_time": "2022-01-09T11:19:02.238Z"
   },
   {
    "duration": 282,
    "start_time": "2022-01-09T11:19:02.256Z"
   },
   {
    "duration": 297,
    "start_time": "2022-01-09T11:19:02.540Z"
   },
   {
    "duration": 139,
    "start_time": "2022-01-09T11:19:02.839Z"
   },
   {
    "duration": 12,
    "start_time": "2022-01-09T11:19:02.980Z"
   },
   {
    "duration": 283,
    "start_time": "2022-01-09T11:19:02.993Z"
   },
   {
    "duration": 37,
    "start_time": "2022-01-09T11:19:03.241Z"
   },
   {
    "duration": 34,
    "start_time": "2022-01-09T11:19:03.245Z"
   },
   {
    "duration": 32,
    "start_time": "2022-01-09T11:19:03.248Z"
   },
   {
    "duration": 30,
    "start_time": "2022-01-09T11:19:03.251Z"
   },
   {
    "duration": 17,
    "start_time": "2022-01-09T11:19:03.265Z"
   },
   {
    "duration": 16,
    "start_time": "2022-01-09T11:19:03.268Z"
   },
   {
    "duration": 14,
    "start_time": "2022-01-09T11:19:03.271Z"
   },
   {
    "duration": 12,
    "start_time": "2022-01-09T11:19:03.274Z"
   },
   {
    "duration": 11,
    "start_time": "2022-01-09T11:19:03.276Z"
   },
   {
    "duration": 9,
    "start_time": "2022-01-09T11:19:03.279Z"
   },
   {
    "duration": 8,
    "start_time": "2022-01-09T11:19:03.281Z"
   },
   {
    "duration": 7,
    "start_time": "2022-01-09T11:19:03.283Z"
   },
   {
    "duration": -1,
    "start_time": "2022-01-09T11:19:03.292Z"
   },
   {
    "duration": -3,
    "start_time": "2022-01-09T11:19:03.295Z"
   },
   {
    "duration": -21,
    "start_time": "2022-01-09T11:19:03.314Z"
   },
   {
    "duration": -23,
    "start_time": "2022-01-09T11:19:03.317Z"
   },
   {
    "duration": -24,
    "start_time": "2022-01-09T11:19:03.319Z"
   },
   {
    "duration": -26,
    "start_time": "2022-01-09T11:19:03.322Z"
   },
   {
    "duration": -28,
    "start_time": "2022-01-09T11:19:03.325Z"
   },
   {
    "duration": -29,
    "start_time": "2022-01-09T11:19:03.327Z"
   },
   {
    "duration": -30,
    "start_time": "2022-01-09T11:19:03.329Z"
   },
   {
    "duration": -31,
    "start_time": "2022-01-09T11:19:03.331Z"
   },
   {
    "duration": -32,
    "start_time": "2022-01-09T11:19:03.333Z"
   },
   {
    "duration": 3,
    "start_time": "2022-01-09T11:22:55.760Z"
   },
   {
    "duration": 249,
    "start_time": "2022-01-09T11:23:35.256Z"
   },
   {
    "duration": 6,
    "start_time": "2022-01-09T11:29:15.528Z"
   },
   {
    "duration": 182,
    "start_time": "2022-01-09T11:29:28.918Z"
   },
   {
    "duration": 49,
    "start_time": "2022-01-09T11:29:48.092Z"
   },
   {
    "duration": 4,
    "start_time": "2022-01-09T11:29:49.588Z"
   },
   {
    "duration": 6,
    "start_time": "2022-01-09T11:29:50.165Z"
   },
   {
    "duration": 5,
    "start_time": "2022-01-09T11:29:50.648Z"
   },
   {
    "duration": 6,
    "start_time": "2022-01-09T11:29:51.185Z"
   },
   {
    "duration": 180,
    "start_time": "2022-01-09T11:29:52.210Z"
   },
   {
    "duration": 183,
    "start_time": "2022-01-09T11:29:52.514Z"
   },
   {
    "duration": 45,
    "start_time": "2022-01-09T11:30:39.652Z"
   },
   {
    "duration": 44,
    "start_time": "2022-01-09T11:30:54.660Z"
   },
   {
    "duration": 5,
    "start_time": "2022-01-09T11:31:06.241Z"
   },
   {
    "duration": 45,
    "start_time": "2022-01-09T11:31:07.833Z"
   },
   {
    "duration": 4,
    "start_time": "2022-01-09T11:33:33.990Z"
   },
   {
    "duration": 47,
    "start_time": "2022-01-09T11:33:40.478Z"
   },
   {
    "duration": 4,
    "start_time": "2022-01-09T11:33:54.940Z"
   },
   {
    "duration": 52,
    "start_time": "2022-01-09T11:33:56.420Z"
   },
   {
    "duration": 4,
    "start_time": "2022-01-09T11:34:13.056Z"
   },
   {
    "duration": 51,
    "start_time": "2022-01-09T11:34:13.215Z"
   },
   {
    "duration": 89,
    "start_time": "2022-01-09T11:34:21.987Z"
   },
   {
    "duration": 3,
    "start_time": "2022-01-09T11:34:24.601Z"
   },
   {
    "duration": 62,
    "start_time": "2022-01-09T11:34:25.666Z"
   },
   {
    "duration": 64,
    "start_time": "2022-01-09T11:34:55.272Z"
   },
   {
    "duration": 4,
    "start_time": "2022-01-09T11:35:01.249Z"
   },
   {
    "duration": 44,
    "start_time": "2022-01-09T11:35:02.029Z"
   },
   {
    "duration": 4,
    "start_time": "2022-01-09T11:35:04.074Z"
   },
   {
    "duration": 7,
    "start_time": "2022-01-09T11:35:04.734Z"
   },
   {
    "duration": 7,
    "start_time": "2022-01-09T11:35:05.986Z"
   },
   {
    "duration": 6,
    "start_time": "2022-01-09T11:35:06.318Z"
   },
   {
    "duration": 7,
    "start_time": "2022-01-09T11:35:09.645Z"
   },
   {
    "duration": 8,
    "start_time": "2022-01-09T11:35:10.401Z"
   },
   {
    "duration": 9,
    "start_time": "2022-01-09T11:35:10.949Z"
   },
   {
    "duration": 6,
    "start_time": "2022-01-09T11:35:13.993Z"
   },
   {
    "duration": 358,
    "start_time": "2022-01-09T11:35:14.611Z"
   },
   {
    "duration": 3,
    "start_time": "2022-01-09T11:40:49.383Z"
   },
   {
    "duration": 4,
    "start_time": "2022-01-09T11:41:00.709Z"
   },
   {
    "duration": 5,
    "start_time": "2022-01-09T11:41:15.351Z"
   },
   {
    "duration": 6,
    "start_time": "2022-01-09T11:41:16.969Z"
   },
   {
    "duration": 211,
    "start_time": "2022-01-09T11:41:22.815Z"
   },
   {
    "duration": 6,
    "start_time": "2022-01-09T11:41:28.700Z"
   },
   {
    "duration": 6,
    "start_time": "2022-01-09T11:42:46.545Z"
   },
   {
    "duration": 367,
    "start_time": "2022-01-09T11:42:47.708Z"
   },
   {
    "duration": 6,
    "start_time": "2022-01-09T11:43:00.613Z"
   },
   {
    "duration": 371,
    "start_time": "2022-01-09T11:43:01.387Z"
   },
   {
    "duration": 6,
    "start_time": "2022-01-09T11:43:50.567Z"
   },
   {
    "duration": 431,
    "start_time": "2022-01-09T11:43:51.557Z"
   },
   {
    "duration": 6,
    "start_time": "2022-01-09T11:45:17.271Z"
   },
   {
    "duration": 375,
    "start_time": "2022-01-09T11:45:18.817Z"
   },
   {
    "duration": 5,
    "start_time": "2022-01-09T11:49:44.246Z"
   },
   {
    "duration": 518,
    "start_time": "2022-01-09T11:49:44.361Z"
   },
   {
    "duration": 5,
    "start_time": "2022-01-09T11:50:21.737Z"
   },
   {
    "duration": 752,
    "start_time": "2022-01-09T11:50:21.744Z"
   },
   {
    "duration": 5,
    "start_time": "2022-01-09T11:51:06.512Z"
   },
   {
    "duration": 388,
    "start_time": "2022-01-09T11:51:07.490Z"
   },
   {
    "duration": 5,
    "start_time": "2022-01-09T11:51:46.168Z"
   },
   {
    "duration": 380,
    "start_time": "2022-01-09T11:51:46.953Z"
   },
   {
    "duration": 199,
    "start_time": "2022-01-09T11:57:04.695Z"
   },
   {
    "duration": 19,
    "start_time": "2022-01-09T11:57:34.982Z"
   },
   {
    "duration": 16,
    "start_time": "2022-01-09T11:58:20.813Z"
   },
   {
    "duration": 18,
    "start_time": "2022-01-09T11:58:31.385Z"
   },
   {
    "duration": 17,
    "start_time": "2022-01-09T11:58:52.625Z"
   },
   {
    "duration": 9,
    "start_time": "2022-01-09T11:59:04.290Z"
   },
   {
    "duration": 9,
    "start_time": "2022-01-09T11:59:28.221Z"
   },
   {
    "duration": 17,
    "start_time": "2022-01-09T12:00:05.932Z"
   },
   {
    "duration": 23,
    "start_time": "2022-01-09T12:00:27.161Z"
   },
   {
    "duration": 10,
    "start_time": "2022-01-09T12:01:48.040Z"
   },
   {
    "duration": 10,
    "start_time": "2022-01-09T12:01:51.505Z"
   },
   {
    "duration": 13,
    "start_time": "2022-01-09T12:01:58.461Z"
   },
   {
    "duration": 14,
    "start_time": "2022-01-09T12:02:05.751Z"
   },
   {
    "duration": 21,
    "start_time": "2022-01-09T12:02:12.021Z"
   },
   {
    "duration": 22,
    "start_time": "2022-01-09T12:02:35.746Z"
   },
   {
    "duration": 5,
    "start_time": "2022-01-09T12:03:01.991Z"
   },
   {
    "duration": 375,
    "start_time": "2022-01-09T12:03:03.079Z"
   },
   {
    "duration": 6,
    "start_time": "2022-01-09T12:03:13.253Z"
   },
   {
    "duration": 716,
    "start_time": "2022-01-09T12:03:13.885Z"
   },
   {
    "duration": 6,
    "start_time": "2022-01-09T12:03:47.983Z"
   },
   {
    "duration": 339,
    "start_time": "2022-01-09T12:03:49.180Z"
   },
   {
    "duration": 6,
    "start_time": "2022-01-09T12:05:32.467Z"
   },
   {
    "duration": 2767,
    "start_time": "2022-01-09T12:05:34.459Z"
   },
   {
    "duration": 3,
    "start_time": "2022-01-09T12:06:52.665Z"
   },
   {
    "duration": 2706,
    "start_time": "2022-01-09T12:06:57.598Z"
   },
   {
    "duration": 5,
    "start_time": "2022-01-09T12:08:07.896Z"
   },
   {
    "duration": 2767,
    "start_time": "2022-01-09T12:08:08.512Z"
   },
   {
    "duration": 5,
    "start_time": "2022-01-09T12:08:15.136Z"
   },
   {
    "duration": 2775,
    "start_time": "2022-01-09T12:08:15.831Z"
   },
   {
    "duration": 195,
    "start_time": "2022-01-09T12:09:25.060Z"
   },
   {
    "duration": 993,
    "start_time": "2022-01-09T12:09:44.745Z"
   },
   {
    "duration": 363,
    "start_time": "2022-01-09T12:10:15.097Z"
   },
   {
    "duration": 206,
    "start_time": "2022-01-09T12:10:31.779Z"
   },
   {
    "duration": 267,
    "start_time": "2022-01-09T12:10:43.035Z"
   },
   {
    "duration": 218,
    "start_time": "2022-01-09T12:11:41.382Z"
   },
   {
    "duration": 300,
    "start_time": "2022-01-09T12:12:16.841Z"
   },
   {
    "duration": 460,
    "start_time": "2022-01-09T12:12:24.591Z"
   },
   {
    "duration": 5,
    "start_time": "2022-01-09T12:12:36.981Z"
   },
   {
    "duration": 4,
    "start_time": "2022-01-09T12:12:40.921Z"
   },
   {
    "duration": 467,
    "start_time": "2022-01-09T12:12:45.295Z"
   },
   {
    "duration": 721,
    "start_time": "2022-01-09T12:13:08.742Z"
   },
   {
    "duration": 57,
    "start_time": "2022-01-09T12:13:18.555Z"
   },
   {
    "duration": 667,
    "start_time": "2022-01-09T12:13:21.941Z"
   },
   {
    "duration": 656,
    "start_time": "2022-01-09T12:14:02.041Z"
   },
   {
    "duration": 479,
    "start_time": "2022-01-09T12:14:13.781Z"
   },
   {
    "duration": 6,
    "start_time": "2022-01-09T12:14:30.963Z"
   },
   {
    "duration": 3240,
    "start_time": "2022-01-09T12:14:32.151Z"
   },
   {
    "duration": 5,
    "start_time": "2022-01-09T12:24:34.676Z"
   },
   {
    "duration": 3118,
    "start_time": "2022-01-09T12:24:35.254Z"
   },
   {
    "duration": 5,
    "start_time": "2022-01-09T12:24:54.683Z"
   },
   {
    "duration": 3134,
    "start_time": "2022-01-09T12:24:55.808Z"
   },
   {
    "duration": 6,
    "start_time": "2022-01-09T12:25:42.617Z"
   },
   {
    "duration": 6,
    "start_time": "2022-01-09T12:25:46.794Z"
   },
   {
    "duration": 3219,
    "start_time": "2022-01-09T12:25:47.410Z"
   },
   {
    "duration": 8,
    "start_time": "2022-01-09T12:25:58.109Z"
   },
   {
    "duration": 711,
    "start_time": "2022-01-09T12:25:59.382Z"
   },
   {
    "duration": 65,
    "start_time": "2022-01-09T12:26:08.981Z"
   },
   {
    "duration": 6,
    "start_time": "2022-01-09T12:26:10.598Z"
   },
   {
    "duration": 3227,
    "start_time": "2022-01-09T12:26:12.490Z"
   },
   {
    "duration": 5,
    "start_time": "2022-01-09T12:26:33.823Z"
   },
   {
    "duration": 3101,
    "start_time": "2022-01-09T12:26:34.400Z"
   },
   {
    "duration": 67,
    "start_time": "2022-01-09T12:26:59.216Z"
   },
   {
    "duration": 56,
    "start_time": "2022-01-09T12:27:02.974Z"
   },
   {
    "duration": 6,
    "start_time": "2022-01-09T12:27:07.025Z"
   },
   {
    "duration": 3147,
    "start_time": "2022-01-09T12:27:07.645Z"
   },
   {
    "duration": 6,
    "start_time": "2022-01-09T12:27:50.135Z"
   },
   {
    "duration": 3197,
    "start_time": "2022-01-09T12:27:50.253Z"
   },
   {
    "duration": 6,
    "start_time": "2022-01-09T12:28:41.395Z"
   },
   {
    "duration": 3505,
    "start_time": "2022-01-09T12:28:41.468Z"
   },
   {
    "duration": 6,
    "start_time": "2022-01-09T12:28:50.621Z"
   },
   {
    "duration": 3545,
    "start_time": "2022-01-09T12:28:51.157Z"
   },
   {
    "duration": 7,
    "start_time": "2022-01-09T12:29:23.826Z"
   },
   {
    "duration": 6,
    "start_time": "2022-01-09T12:29:32.784Z"
   },
   {
    "duration": 3203,
    "start_time": "2022-01-09T12:29:32.791Z"
   },
   {
    "duration": 7,
    "start_time": "2022-01-09T12:29:47.468Z"
   },
   {
    "duration": 3258,
    "start_time": "2022-01-09T12:29:47.477Z"
   },
   {
    "duration": 77,
    "start_time": "2022-01-09T12:30:18.607Z"
   },
   {
    "duration": 6,
    "start_time": "2022-01-09T12:30:22.738Z"
   },
   {
    "duration": 3652,
    "start_time": "2022-01-09T12:30:24.022Z"
   },
   {
    "duration": 7,
    "start_time": "2022-01-09T12:31:03.033Z"
   },
   {
    "duration": 866,
    "start_time": "2022-01-09T12:31:03.933Z"
   },
   {
    "duration": 3,
    "start_time": "2022-01-09T12:32:27.127Z"
   },
   {
    "duration": 4,
    "start_time": "2022-01-09T12:32:34.032Z"
   },
   {
    "duration": 2,
    "start_time": "2022-01-09T12:32:40.037Z"
   },
   {
    "duration": 4,
    "start_time": "2022-01-09T12:32:40.388Z"
   },
   {
    "duration": 177,
    "start_time": "2022-01-09T12:32:55.574Z"
   },
   {
    "duration": 464,
    "start_time": "2022-01-09T12:33:05.095Z"
   },
   {
    "duration": 186,
    "start_time": "2022-01-09T12:33:22.762Z"
   },
   {
    "duration": 176,
    "start_time": "2022-01-09T12:33:29.707Z"
   },
   {
    "duration": 6,
    "start_time": "2022-01-09T12:33:42.283Z"
   },
   {
    "duration": 180,
    "start_time": "2022-01-09T12:33:56.639Z"
   },
   {
    "duration": 182,
    "start_time": "2022-01-09T12:34:02.086Z"
   },
   {
    "duration": 4,
    "start_time": "2022-01-09T12:35:07.037Z"
   },
   {
    "duration": 3,
    "start_time": "2022-01-09T12:36:18.927Z"
   },
   {
    "duration": 6,
    "start_time": "2022-01-09T12:36:22.394Z"
   },
   {
    "duration": 178,
    "start_time": "2022-01-09T12:36:44.040Z"
   },
   {
    "duration": 222,
    "start_time": "2022-01-09T12:36:44.362Z"
   },
   {
    "duration": 4,
    "start_time": "2022-01-09T12:36:51.727Z"
   },
   {
    "duration": 4,
    "start_time": "2022-01-09T12:37:09.658Z"
   },
   {
    "duration": 57,
    "start_time": "2022-01-09T12:38:25.909Z"
   },
   {
    "duration": 767,
    "start_time": "2022-01-09T12:38:26.276Z"
   },
   {
    "duration": 6,
    "start_time": "2022-01-09T12:38:36.453Z"
   },
   {
    "duration": 717,
    "start_time": "2022-01-09T12:38:37.063Z"
   },
   {
    "duration": 7,
    "start_time": "2022-01-09T12:38:53.807Z"
   },
   {
    "duration": 3606,
    "start_time": "2022-01-09T12:38:54.928Z"
   },
   {
    "duration": 7,
    "start_time": "2022-01-09T12:40:23.755Z"
   },
   {
    "duration": 4045,
    "start_time": "2022-01-09T12:40:23.848Z"
   },
   {
    "duration": 6,
    "start_time": "2022-01-09T12:41:11.008Z"
   },
   {
    "duration": 3186,
    "start_time": "2022-01-09T12:41:11.682Z"
   },
   {
    "duration": 6,
    "start_time": "2022-01-09T12:41:22.419Z"
   },
   {
    "duration": 3184,
    "start_time": "2022-01-09T12:41:23.130Z"
   },
   {
    "duration": 6,
    "start_time": "2022-01-09T12:44:03.258Z"
   },
   {
    "duration": 3277,
    "start_time": "2022-01-09T12:44:03.977Z"
   },
   {
    "duration": 5442,
    "start_time": "2022-01-09T12:44:22.673Z"
   },
   {
    "duration": 6343,
    "start_time": "2022-01-09T12:44:38.904Z"
   },
   {
    "duration": 175,
    "start_time": "2022-01-09T12:52:40.082Z"
   },
   {
    "duration": 161,
    "start_time": "2022-01-09T12:57:08.778Z"
   },
   {
    "duration": 10,
    "start_time": "2022-01-09T13:00:16.807Z"
   },
   {
    "duration": 368,
    "start_time": "2022-01-09T13:00:16.828Z"
   },
   {
    "duration": 7,
    "start_time": "2022-01-09T13:01:01.454Z"
   },
   {
    "duration": 358,
    "start_time": "2022-01-09T13:01:02.958Z"
   },
   {
    "duration": 6,
    "start_time": "2022-01-09T13:01:25.011Z"
   },
   {
    "duration": 358,
    "start_time": "2022-01-09T13:01:25.906Z"
   },
   {
    "duration": 8,
    "start_time": "2022-01-09T13:01:56.140Z"
   },
   {
    "duration": 102158,
    "start_time": "2022-01-09T13:01:56.691Z"
   },
   {
    "duration": 7,
    "start_time": "2022-01-09T13:04:08.100Z"
   },
   {
    "duration": 90510,
    "start_time": "2022-01-09T13:04:08.541Z"
   },
   {
    "duration": 7,
    "start_time": "2022-01-09T13:07:00.330Z"
   },
   {
    "duration": 87488,
    "start_time": "2022-01-09T13:07:00.670Z"
   },
   {
    "duration": 105601,
    "start_time": "2022-01-09T13:08:28.160Z"
   },
   {
    "duration": 113184,
    "start_time": "2022-01-09T13:10:13.763Z"
   },
   {
    "duration": 7,
    "start_time": "2022-01-09T13:14:41.199Z"
   },
   {
    "duration": 123304,
    "start_time": "2022-01-09T13:14:41.660Z"
   },
   {
    "duration": 140710,
    "start_time": "2022-01-09T13:16:44.967Z"
   },
   {
    "duration": 146946,
    "start_time": "2022-01-09T13:19:05.679Z"
   },
   {
    "duration": 165,
    "start_time": "2022-01-09T13:59:50.258Z"
   },
   {
    "duration": 3,
    "start_time": "2022-01-09T13:59:50.450Z"
   },
   {
    "duration": 9,
    "start_time": "2022-01-09T13:59:50.455Z"
   },
   {
    "duration": 8,
    "start_time": "2022-01-09T13:59:50.466Z"
   },
   {
    "duration": 7,
    "start_time": "2022-01-09T13:59:50.476Z"
   },
   {
    "duration": 7,
    "start_time": "2022-01-09T13:59:52.514Z"
   },
   {
    "duration": 10,
    "start_time": "2022-01-09T13:59:53.150Z"
   },
   {
    "duration": 8,
    "start_time": "2022-01-09T13:59:54.518Z"
   },
   {
    "duration": 7,
    "start_time": "2022-01-09T13:59:56.012Z"
   },
   {
    "duration": 3166,
    "start_time": "2022-01-09T13:59:57.037Z"
   },
   {
    "duration": 5564,
    "start_time": "2022-01-09T14:00:00.773Z"
   },
   {
    "duration": 6524,
    "start_time": "2022-01-09T14:00:06.339Z"
   },
   {
    "duration": 1085,
    "start_time": "2022-01-09T14:00:34.326Z"
   },
   {
    "duration": 2,
    "start_time": "2022-01-09T14:00:35.413Z"
   },
   {
    "duration": 39,
    "start_time": "2022-01-09T14:00:35.417Z"
   },
   {
    "duration": 13,
    "start_time": "2022-01-09T14:00:35.458Z"
   },
   {
    "duration": 8,
    "start_time": "2022-01-09T14:00:35.473Z"
   },
   {
    "duration": 13,
    "start_time": "2022-01-09T14:00:35.482Z"
   },
   {
    "duration": 7,
    "start_time": "2022-01-09T14:00:35.497Z"
   },
   {
    "duration": 10,
    "start_time": "2022-01-09T14:00:35.507Z"
   },
   {
    "duration": 3,
    "start_time": "2022-01-09T14:00:35.519Z"
   },
   {
    "duration": 9,
    "start_time": "2022-01-09T14:00:35.523Z"
   },
   {
    "duration": 293,
    "start_time": "2022-01-09T14:00:35.533Z"
   },
   {
    "duration": 292,
    "start_time": "2022-01-09T14:00:35.828Z"
   },
   {
    "duration": 140,
    "start_time": "2022-01-09T14:00:36.121Z"
   },
   {
    "duration": 4,
    "start_time": "2022-01-09T14:00:36.262Z"
   },
   {
    "duration": 58,
    "start_time": "2022-01-09T14:00:36.268Z"
   },
   {
    "duration": 3,
    "start_time": "2022-01-09T14:00:36.328Z"
   },
   {
    "duration": 12,
    "start_time": "2022-01-09T14:00:36.333Z"
   },
   {
    "duration": 12,
    "start_time": "2022-01-09T14:00:36.347Z"
   },
   {
    "duration": 18,
    "start_time": "2022-01-09T14:00:36.360Z"
   },
   {
    "duration": 9,
    "start_time": "2022-01-09T14:00:36.379Z"
   },
   {
    "duration": 7,
    "start_time": "2022-01-09T14:00:36.389Z"
   },
   {
    "duration": 9,
    "start_time": "2022-01-09T14:00:36.399Z"
   },
   {
    "duration": 11,
    "start_time": "2022-01-09T14:00:36.493Z"
   },
   {
    "duration": 3129,
    "start_time": "2022-01-09T14:00:36.591Z"
   },
   {
    "duration": 5434,
    "start_time": "2022-01-09T14:00:39.722Z"
   },
   {
    "duration": 6524,
    "start_time": "2022-01-09T14:00:45.158Z"
   },
   {
    "duration": 175,
    "start_time": "2022-01-09T14:00:51.684Z"
   },
   {
    "duration": 8,
    "start_time": "2022-01-09T14:00:51.861Z"
   },
   {
    "duration": 1136,
    "start_time": "2022-01-09T14:01:19.579Z"
   },
   {
    "duration": 3,
    "start_time": "2022-01-09T14:01:20.717Z"
   },
   {
    "duration": 40,
    "start_time": "2022-01-09T14:01:20.722Z"
   },
   {
    "duration": 14,
    "start_time": "2022-01-09T14:01:20.764Z"
   },
   {
    "duration": 11,
    "start_time": "2022-01-09T14:01:20.780Z"
   },
   {
    "duration": 6,
    "start_time": "2022-01-09T14:01:20.793Z"
   },
   {
    "duration": 5,
    "start_time": "2022-01-09T14:01:20.801Z"
   },
   {
    "duration": 9,
    "start_time": "2022-01-09T14:01:20.809Z"
   },
   {
    "duration": 4,
    "start_time": "2022-01-09T14:01:20.820Z"
   },
   {
    "duration": 8,
    "start_time": "2022-01-09T14:01:20.825Z"
   },
   {
    "duration": 313,
    "start_time": "2022-01-09T14:01:20.835Z"
   },
   {
    "duration": 297,
    "start_time": "2022-01-09T14:01:21.150Z"
   },
   {
    "duration": 140,
    "start_time": "2022-01-09T14:01:21.448Z"
   },
   {
    "duration": 4,
    "start_time": "2022-01-09T14:01:21.591Z"
   },
   {
    "duration": 50,
    "start_time": "2022-01-09T14:01:21.596Z"
   },
   {
    "duration": 4,
    "start_time": "2022-01-09T14:01:21.647Z"
   },
   {
    "duration": 9,
    "start_time": "2022-01-09T14:01:21.652Z"
   },
   {
    "duration": 7,
    "start_time": "2022-01-09T14:01:21.663Z"
   },
   {
    "duration": 24,
    "start_time": "2022-01-09T14:01:21.672Z"
   },
   {
    "duration": 7,
    "start_time": "2022-01-09T14:01:21.697Z"
   },
   {
    "duration": 7,
    "start_time": "2022-01-09T14:01:21.705Z"
   },
   {
    "duration": 7,
    "start_time": "2022-01-09T14:01:21.714Z"
   },
   {
    "duration": 9,
    "start_time": "2022-01-09T14:01:21.793Z"
   },
   {
    "duration": 3168,
    "start_time": "2022-01-09T14:01:21.804Z"
   },
   {
    "duration": 5297,
    "start_time": "2022-01-09T14:01:24.974Z"
   },
   {
    "duration": 6351,
    "start_time": "2022-01-09T14:01:30.272Z"
   },
   {
    "duration": 172,
    "start_time": "2022-01-09T14:01:36.625Z"
   },
   {
    "duration": 7,
    "start_time": "2022-01-09T14:01:36.799Z"
   },
   {
    "duration": 1108,
    "start_time": "2022-01-09T14:02:11.178Z"
   },
   {
    "duration": 3,
    "start_time": "2022-01-09T14:02:12.288Z"
   },
   {
    "duration": 47,
    "start_time": "2022-01-09T14:02:12.296Z"
   },
   {
    "duration": 14,
    "start_time": "2022-01-09T14:02:12.345Z"
   },
   {
    "duration": 15,
    "start_time": "2022-01-09T14:02:12.360Z"
   },
   {
    "duration": 10,
    "start_time": "2022-01-09T14:02:12.377Z"
   },
   {
    "duration": 21,
    "start_time": "2022-01-09T14:02:12.389Z"
   },
   {
    "duration": 30,
    "start_time": "2022-01-09T14:02:12.412Z"
   },
   {
    "duration": 7,
    "start_time": "2022-01-09T14:02:12.444Z"
   },
   {
    "duration": 24,
    "start_time": "2022-01-09T14:02:12.452Z"
   },
   {
    "duration": 291,
    "start_time": "2022-01-09T14:02:12.478Z"
   },
   {
    "duration": 297,
    "start_time": "2022-01-09T14:02:12.771Z"
   },
   {
    "duration": 144,
    "start_time": "2022-01-09T14:02:13.070Z"
   },
   {
    "duration": 4,
    "start_time": "2022-01-09T14:02:13.216Z"
   },
   {
    "duration": 46,
    "start_time": "2022-01-09T14:02:13.222Z"
   },
   {
    "duration": 3,
    "start_time": "2022-01-09T14:02:13.270Z"
   },
   {
    "duration": 6,
    "start_time": "2022-01-09T14:02:13.291Z"
   },
   {
    "duration": 6,
    "start_time": "2022-01-09T14:02:13.299Z"
   },
   {
    "duration": 9,
    "start_time": "2022-01-09T14:02:13.307Z"
   },
   {
    "duration": 8,
    "start_time": "2022-01-09T14:02:13.317Z"
   },
   {
    "duration": 8,
    "start_time": "2022-01-09T14:02:13.328Z"
   },
   {
    "duration": 59,
    "start_time": "2022-01-09T14:02:13.341Z"
   },
   {
    "duration": 89,
    "start_time": "2022-01-09T14:02:13.402Z"
   },
   {
    "duration": 3169,
    "start_time": "2022-01-09T14:02:13.494Z"
   },
   {
    "duration": 4491,
    "start_time": "2022-01-09T14:02:16.665Z"
   },
   {
    "duration": 5136,
    "start_time": "2022-01-09T14:02:21.158Z"
   },
   {
    "duration": 179,
    "start_time": "2022-01-09T14:02:26.296Z"
   },
   {
    "duration": 14,
    "start_time": "2022-01-09T14:02:26.477Z"
   },
   {
    "duration": 136968,
    "start_time": "2022-01-09T14:02:26.494Z"
   },
   {
    "duration": 144768,
    "start_time": "2022-01-09T14:04:43.464Z"
   },
   {
    "duration": 139912,
    "start_time": "2022-01-09T14:07:08.234Z"
   },
   {
    "duration": 5863,
    "start_time": "2022-01-09T14:09:28.148Z"
   },
   {
    "duration": 7,
    "start_time": "2022-01-09T14:09:34.013Z"
   },
   {
    "duration": 5,
    "start_time": "2022-01-09T14:09:34.022Z"
   },
   {
    "duration": 6,
    "start_time": "2022-01-09T14:09:34.028Z"
   },
   {
    "duration": 5,
    "start_time": "2022-01-09T14:09:34.035Z"
   },
   {
    "duration": 5,
    "start_time": "2022-01-09T14:09:34.042Z"
   },
   {
    "duration": 10,
    "start_time": "2022-01-09T14:09:34.049Z"
   },
   {
    "duration": 57,
    "start_time": "2022-01-09T14:09:34.062Z"
   },
   {
    "duration": -10,
    "start_time": "2022-01-09T14:09:34.131Z"
   },
   {
    "duration": 6,
    "start_time": "2022-01-09T14:10:47.715Z"
   },
   {
    "duration": 46,
    "start_time": "2022-01-09T14:11:27.593Z"
   },
   {
    "duration": 4,
    "start_time": "2022-01-09T14:11:28.695Z"
   },
   {
    "duration": 7,
    "start_time": "2022-01-09T14:11:28.718Z"
   },
   {
    "duration": 6,
    "start_time": "2022-01-09T14:11:28.758Z"
   },
   {
    "duration": 7,
    "start_time": "2022-01-09T14:11:28.795Z"
   },
   {
    "duration": 9,
    "start_time": "2022-01-09T14:11:31.224Z"
   },
   {
    "duration": 9,
    "start_time": "2022-01-09T14:11:31.501Z"
   },
   {
    "duration": 11,
    "start_time": "2022-01-09T14:11:31.816Z"
   },
   {
    "duration": 7,
    "start_time": "2022-01-09T14:11:32.355Z"
   },
   {
    "duration": 4680,
    "start_time": "2022-01-09T14:11:32.579Z"
   },
   {
    "duration": 5305,
    "start_time": "2022-01-09T14:11:37.261Z"
   },
   {
    "duration": 6365,
    "start_time": "2022-01-09T14:11:42.568Z"
   },
   {
    "duration": 262,
    "start_time": "2022-01-09T14:11:48.935Z"
   },
   {
    "duration": 7,
    "start_time": "2022-01-09T14:11:49.198Z"
   },
   {
    "duration": 147668,
    "start_time": "2022-01-09T14:11:49.207Z"
   },
   {
    "duration": 139182,
    "start_time": "2022-01-09T14:14:16.877Z"
   },
   {
    "duration": 149998,
    "start_time": "2022-01-09T14:16:36.061Z"
   },
   {
    "duration": 5315,
    "start_time": "2022-01-09T14:19:06.061Z"
   },
   {
    "duration": 6,
    "start_time": "2022-01-09T14:19:11.378Z"
   },
   {
    "duration": 6,
    "start_time": "2022-01-09T14:19:11.386Z"
   },
   {
    "duration": 6,
    "start_time": "2022-01-09T14:19:11.393Z"
   },
   {
    "duration": 7,
    "start_time": "2022-01-09T14:19:11.400Z"
   },
   {
    "duration": 4,
    "start_time": "2022-01-09T14:19:11.409Z"
   },
   {
    "duration": 9,
    "start_time": "2022-01-09T14:19:11.415Z"
   },
   {
    "duration": 6,
    "start_time": "2022-01-09T14:19:48.226Z"
   },
   {
    "duration": 4,
    "start_time": "2022-01-09T14:21:04.909Z"
   },
   {
    "duration": 45,
    "start_time": "2022-01-09T14:21:06.155Z"
   },
   {
    "duration": 4,
    "start_time": "2022-01-09T14:21:07.527Z"
   },
   {
    "duration": 7,
    "start_time": "2022-01-09T14:21:07.729Z"
   },
   {
    "duration": 7,
    "start_time": "2022-01-09T14:21:08.020Z"
   },
   {
    "duration": 7,
    "start_time": "2022-01-09T14:21:08.400Z"
   },
   {
    "duration": 7,
    "start_time": "2022-01-09T14:21:11.154Z"
   },
   {
    "duration": 7,
    "start_time": "2022-01-09T14:21:11.441Z"
   },
   {
    "duration": 9,
    "start_time": "2022-01-09T14:21:11.767Z"
   },
   {
    "duration": 5735,
    "start_time": "2022-01-09T14:21:18.826Z"
   },
   {
    "duration": 6,
    "start_time": "2022-01-09T14:21:24.563Z"
   },
   {
    "duration": 47,
    "start_time": "2022-01-09T14:21:50.070Z"
   },
   {
    "duration": 4,
    "start_time": "2022-01-09T14:21:51.627Z"
   },
   {
    "duration": 8,
    "start_time": "2022-01-09T14:21:53.133Z"
   },
   {
    "duration": 7,
    "start_time": "2022-01-09T14:21:53.570Z"
   },
   {
    "duration": 7,
    "start_time": "2022-01-09T14:21:54.453Z"
   },
   {
    "duration": 8,
    "start_time": "2022-01-09T14:21:55.713Z"
   },
   {
    "duration": 8,
    "start_time": "2022-01-09T14:21:55.927Z"
   },
   {
    "duration": 9,
    "start_time": "2022-01-09T14:21:56.239Z"
   },
   {
    "duration": 6,
    "start_time": "2022-01-09T14:22:05.075Z"
   },
   {
    "duration": 44,
    "start_time": "2022-01-09T14:22:31.524Z"
   },
   {
    "duration": 4,
    "start_time": "2022-01-09T14:22:34.176Z"
   },
   {
    "duration": 6,
    "start_time": "2022-01-09T14:22:34.521Z"
   },
   {
    "duration": 8,
    "start_time": "2022-01-09T14:22:34.874Z"
   },
   {
    "duration": 8,
    "start_time": "2022-01-09T14:22:35.201Z"
   },
   {
    "duration": 8,
    "start_time": "2022-01-09T14:22:37.601Z"
   },
   {
    "duration": 8,
    "start_time": "2022-01-09T14:22:37.863Z"
   },
   {
    "duration": 8,
    "start_time": "2022-01-09T14:22:38.163Z"
   },
   {
    "duration": 7,
    "start_time": "2022-01-09T14:22:42.860Z"
   },
   {
    "duration": 4,
    "start_time": "2022-01-09T14:22:48.192Z"
   },
   {
    "duration": 6,
    "start_time": "2022-01-09T14:22:48.199Z"
   },
   {
    "duration": 4,
    "start_time": "2022-01-09T14:22:48.303Z"
   },
   {
    "duration": 4,
    "start_time": "2022-01-09T14:22:48.485Z"
   },
   {
    "duration": 9,
    "start_time": "2022-01-09T14:22:48.593Z"
   },
   {
    "duration": 1091,
    "start_time": "2022-01-09T14:23:47.433Z"
   },
   {
    "duration": 3,
    "start_time": "2022-01-09T14:23:48.526Z"
   },
   {
    "duration": 41,
    "start_time": "2022-01-09T14:23:48.531Z"
   },
   {
    "duration": 14,
    "start_time": "2022-01-09T14:23:48.574Z"
   },
   {
    "duration": 12,
    "start_time": "2022-01-09T14:23:48.591Z"
   },
   {
    "duration": 6,
    "start_time": "2022-01-09T14:23:48.605Z"
   },
   {
    "duration": 5,
    "start_time": "2022-01-09T14:23:48.613Z"
   },
   {
    "duration": 10,
    "start_time": "2022-01-09T14:23:48.622Z"
   },
   {
    "duration": 4,
    "start_time": "2022-01-09T14:23:48.635Z"
   },
   {
    "duration": 21,
    "start_time": "2022-01-09T14:23:48.641Z"
   },
   {
    "duration": 294,
    "start_time": "2022-01-09T14:23:48.664Z"
   },
   {
    "duration": 308,
    "start_time": "2022-01-09T14:23:48.960Z"
   },
   {
    "duration": 146,
    "start_time": "2022-01-09T14:23:49.271Z"
   },
   {
    "duration": 4,
    "start_time": "2022-01-09T14:23:49.420Z"
   },
   {
    "duration": 50,
    "start_time": "2022-01-09T14:23:49.426Z"
   },
   {
    "duration": 16,
    "start_time": "2022-01-09T14:23:49.478Z"
   },
   {
    "duration": 11,
    "start_time": "2022-01-09T14:23:49.495Z"
   },
   {
    "duration": 5,
    "start_time": "2022-01-09T14:23:49.508Z"
   },
   {
    "duration": 6,
    "start_time": "2022-01-09T14:23:49.515Z"
   },
   {
    "duration": 8,
    "start_time": "2022-01-09T14:23:49.523Z"
   },
   {
    "duration": 60,
    "start_time": "2022-01-09T14:23:49.534Z"
   },
   {
    "duration": 10,
    "start_time": "2022-01-09T14:23:49.596Z"
   },
   {
    "duration": 11,
    "start_time": "2022-01-09T14:23:49.693Z"
   },
   {
    "duration": 3569,
    "start_time": "2022-01-09T14:23:49.792Z"
   },
   {
    "duration": 4949,
    "start_time": "2022-01-09T14:23:53.363Z"
   },
   {
    "duration": 6927,
    "start_time": "2022-01-09T14:23:58.314Z"
   },
   {
    "duration": 199,
    "start_time": "2022-01-09T14:24:05.243Z"
   },
   {
    "duration": 7,
    "start_time": "2022-01-09T14:24:05.444Z"
   },
   {
    "duration": 124743,
    "start_time": "2022-01-09T14:24:05.453Z"
   },
   {
    "duration": 142152,
    "start_time": "2022-01-09T14:26:10.198Z"
   },
   {
    "duration": 160701,
    "start_time": "2022-01-09T14:28:32.352Z"
   },
   {
    "duration": 5102,
    "start_time": "2022-01-09T14:31:13.054Z"
   },
   {
    "duration": 6,
    "start_time": "2022-01-09T14:31:18.158Z"
   },
   {
    "duration": 13,
    "start_time": "2022-01-09T14:31:18.165Z"
   },
   {
    "duration": 24,
    "start_time": "2022-01-09T14:31:18.179Z"
   },
   {
    "duration": 15,
    "start_time": "2022-01-09T14:31:18.205Z"
   },
   {
    "duration": 14,
    "start_time": "2022-01-09T14:31:18.222Z"
   },
   {
    "duration": 10,
    "start_time": "2022-01-09T14:31:18.238Z"
   },
   {
    "duration": 442,
    "start_time": "2022-01-09T14:34:29.841Z"
   },
   {
    "duration": 135,
    "start_time": "2022-01-09T14:34:30.870Z"
   },
   {
    "duration": 4,
    "start_time": "2022-01-09T14:34:31.998Z"
   },
   {
    "duration": 45,
    "start_time": "2022-01-09T14:34:33.053Z"
   },
   {
    "duration": 4,
    "start_time": "2022-01-09T14:34:36.050Z"
   },
   {
    "duration": 7,
    "start_time": "2022-01-09T14:34:39.942Z"
   },
   {
    "duration": 8,
    "start_time": "2022-01-09T14:34:40.253Z"
   },
   {
    "duration": 8,
    "start_time": "2022-01-09T14:34:40.552Z"
   },
   {
    "duration": 7,
    "start_time": "2022-01-09T14:34:43.560Z"
   },
   {
    "duration": 8,
    "start_time": "2022-01-09T14:34:43.932Z"
   },
   {
    "duration": 10,
    "start_time": "2022-01-09T14:34:44.372Z"
   },
   {
    "duration": 8,
    "start_time": "2022-01-09T14:34:55.966Z"
   },
   {
    "duration": 5,
    "start_time": "2022-01-09T14:34:58.136Z"
   },
   {
    "duration": 4,
    "start_time": "2022-01-09T14:34:59.310Z"
   },
   {
    "duration": 271,
    "start_time": "2022-01-09T14:34:59.318Z"
   },
   {
    "duration": -23,
    "start_time": "2022-01-09T14:34:59.614Z"
   },
   {
    "duration": 192,
    "start_time": "2022-01-09T14:35:00.229Z"
   },
   {
    "duration": 1149,
    "start_time": "2022-01-09T14:35:08.312Z"
   },
   {
    "duration": 3,
    "start_time": "2022-01-09T14:35:09.464Z"
   },
   {
    "duration": 44,
    "start_time": "2022-01-09T14:35:09.470Z"
   },
   {
    "duration": 14,
    "start_time": "2022-01-09T14:35:09.516Z"
   },
   {
    "duration": 6,
    "start_time": "2022-01-09T14:35:09.532Z"
   },
   {
    "duration": 5,
    "start_time": "2022-01-09T14:35:09.541Z"
   },
   {
    "duration": 6,
    "start_time": "2022-01-09T14:35:09.548Z"
   },
   {
    "duration": 42,
    "start_time": "2022-01-09T14:35:09.556Z"
   },
   {
    "duration": 5,
    "start_time": "2022-01-09T14:35:09.600Z"
   },
   {
    "duration": 10,
    "start_time": "2022-01-09T14:35:09.606Z"
   },
   {
    "duration": 312,
    "start_time": "2022-01-09T14:35:09.618Z"
   },
   {
    "duration": 379,
    "start_time": "2022-01-09T14:35:09.931Z"
   },
   {
    "duration": 161,
    "start_time": "2022-01-09T14:35:10.312Z"
   },
   {
    "duration": 5,
    "start_time": "2022-01-09T14:35:10.474Z"
   },
   {
    "duration": 55,
    "start_time": "2022-01-09T14:35:10.481Z"
   },
   {
    "duration": 4,
    "start_time": "2022-01-09T14:35:10.538Z"
   },
   {
    "duration": 16,
    "start_time": "2022-01-09T14:35:10.544Z"
   },
   {
    "duration": 8,
    "start_time": "2022-01-09T14:35:10.562Z"
   },
   {
    "duration": 23,
    "start_time": "2022-01-09T14:35:10.572Z"
   },
   {
    "duration": 6,
    "start_time": "2022-01-09T14:35:10.597Z"
   },
   {
    "duration": 12,
    "start_time": "2022-01-09T14:35:10.605Z"
   },
   {
    "duration": 76,
    "start_time": "2022-01-09T14:35:10.619Z"
   },
   {
    "duration": 95,
    "start_time": "2022-01-09T14:35:10.700Z"
   },
   {
    "duration": 3452,
    "start_time": "2022-01-09T14:35:10.797Z"
   },
   {
    "duration": 5469,
    "start_time": "2022-01-09T14:35:14.251Z"
   },
   {
    "duration": 6541,
    "start_time": "2022-01-09T14:35:19.722Z"
   },
   {
    "duration": 193,
    "start_time": "2022-01-09T14:35:26.265Z"
   },
   {
    "duration": 9,
    "start_time": "2022-01-09T14:35:26.461Z"
   },
   {
    "duration": 115976,
    "start_time": "2022-01-09T14:35:26.471Z"
   },
   {
    "duration": 1085,
    "start_time": "2022-01-09T14:41:17.016Z"
   },
   {
    "duration": 4,
    "start_time": "2022-01-09T14:41:18.103Z"
   },
   {
    "duration": 50,
    "start_time": "2022-01-09T14:41:18.109Z"
   },
   {
    "duration": 15,
    "start_time": "2022-01-09T14:41:18.161Z"
   },
   {
    "duration": 13,
    "start_time": "2022-01-09T14:41:18.178Z"
   },
   {
    "duration": 6,
    "start_time": "2022-01-09T14:41:18.193Z"
   },
   {
    "duration": 7,
    "start_time": "2022-01-09T14:41:18.201Z"
   },
   {
    "duration": 12,
    "start_time": "2022-01-09T14:41:18.210Z"
   },
   {
    "duration": 3,
    "start_time": "2022-01-09T14:41:18.224Z"
   },
   {
    "duration": 8,
    "start_time": "2022-01-09T14:41:18.229Z"
   },
   {
    "duration": 298,
    "start_time": "2022-01-09T14:41:18.238Z"
   },
   {
    "duration": 296,
    "start_time": "2022-01-09T14:41:18.538Z"
   },
   {
    "duration": 144,
    "start_time": "2022-01-09T14:41:18.836Z"
   },
   {
    "duration": 4,
    "start_time": "2022-01-09T14:41:18.982Z"
   },
   {
    "duration": 51,
    "start_time": "2022-01-09T14:41:18.991Z"
   },
   {
    "duration": 3,
    "start_time": "2022-01-09T14:41:19.044Z"
   },
   {
    "duration": 11,
    "start_time": "2022-01-09T14:41:19.049Z"
   },
   {
    "duration": 8,
    "start_time": "2022-01-09T14:41:19.062Z"
   },
   {
    "duration": 10,
    "start_time": "2022-01-09T14:41:19.071Z"
   },
   {
    "duration": 6,
    "start_time": "2022-01-09T14:41:19.090Z"
   },
   {
    "duration": 7,
    "start_time": "2022-01-09T14:41:19.098Z"
   },
   {
    "duration": 8,
    "start_time": "2022-01-09T14:41:19.108Z"
   },
   {
    "duration": 12,
    "start_time": "2022-01-09T14:41:19.192Z"
   },
   {
    "duration": 3195,
    "start_time": "2022-01-09T14:41:19.290Z"
   },
   {
    "duration": 5451,
    "start_time": "2022-01-09T14:41:22.486Z"
   },
   {
    "duration": 6507,
    "start_time": "2022-01-09T14:41:27.939Z"
   },
   {
    "duration": 174,
    "start_time": "2022-01-09T14:41:34.448Z"
   },
   {
    "duration": 8,
    "start_time": "2022-01-09T14:41:34.624Z"
   },
   {
    "duration": 86412,
    "start_time": "2022-01-09T14:41:34.634Z"
   },
   {
    "duration": 103523,
    "start_time": "2022-01-09T14:43:01.048Z"
   },
   {
    "duration": 129354,
    "start_time": "2022-01-09T14:44:44.572Z"
   },
   {
    "duration": 8148,
    "start_time": "2022-01-09T14:46:53.928Z"
   },
   {
    "duration": 6,
    "start_time": "2022-01-09T14:47:02.078Z"
   },
   {
    "duration": 13,
    "start_time": "2022-01-09T14:47:02.085Z"
   },
   {
    "duration": 5,
    "start_time": "2022-01-09T14:47:02.100Z"
   },
   {
    "duration": 7,
    "start_time": "2022-01-09T14:47:02.107Z"
   },
   {
    "duration": 8,
    "start_time": "2022-01-09T14:47:02.115Z"
   },
   {
    "duration": 11,
    "start_time": "2022-01-09T14:47:02.124Z"
   },
   {
    "duration": 9659,
    "start_time": "2022-01-09T14:53:23.589Z"
   },
   {
    "duration": 6,
    "start_time": "2022-01-09T14:53:37.129Z"
   },
   {
    "duration": 4,
    "start_time": "2022-01-09T14:53:41.164Z"
   },
   {
    "duration": 3,
    "start_time": "2022-01-09T14:53:43.546Z"
   },
   {
    "duration": 267,
    "start_time": "2022-01-09T14:53:43.551Z"
   },
   {
    "duration": 49,
    "start_time": "2022-01-09T14:53:43.771Z"
   },
   {
    "duration": 188,
    "start_time": "2022-01-09T14:53:43.970Z"
   },
   {
    "duration": 6,
    "start_time": "2022-01-09T14:54:06.300Z"
   },
   {
    "duration": 4,
    "start_time": "2022-01-09T14:54:06.861Z"
   },
   {
    "duration": 4,
    "start_time": "2022-01-09T14:54:07.355Z"
   },
   {
    "duration": 3,
    "start_time": "2022-01-09T14:54:08.385Z"
   },
   {
    "duration": 9,
    "start_time": "2022-01-09T14:54:09.167Z"
   },
   {
    "duration": 178,
    "start_time": "2022-01-09T14:54:38.543Z"
   },
   {
    "duration": 174,
    "start_time": "2022-01-09T14:54:51.032Z"
   },
   {
    "duration": 67,
    "start_time": "2022-01-09T14:55:18.017Z"
   },
   {
    "duration": 174,
    "start_time": "2022-01-09T14:55:23.156Z"
   },
   {
    "duration": 169,
    "start_time": "2022-01-09T14:56:22.610Z"
   },
   {
    "duration": 173,
    "start_time": "2022-01-09T14:56:27.238Z"
   },
   {
    "duration": 237,
    "start_time": "2022-01-09T14:56:41.449Z"
   },
   {
    "duration": 280,
    "start_time": "2022-01-09T14:56:54.011Z"
   },
   {
    "duration": 3,
    "start_time": "2022-01-09T14:57:26.773Z"
   },
   {
    "duration": 232,
    "start_time": "2022-01-09T14:57:27.604Z"
   },
   {
    "duration": 4,
    "start_time": "2022-01-09T14:57:30.908Z"
   },
   {
    "duration": 4,
    "start_time": "2022-01-09T14:57:31.192Z"
   },
   {
    "duration": 5,
    "start_time": "2022-01-09T14:57:31.433Z"
   },
   {
    "duration": 3,
    "start_time": "2022-01-09T14:57:31.727Z"
   },
   {
    "duration": 9,
    "start_time": "2022-01-09T14:57:32.184Z"
   },
   {
    "duration": 185,
    "start_time": "2022-01-09T15:36:15.479Z"
   },
   {
    "duration": 172,
    "start_time": "2022-01-09T15:36:43.763Z"
   },
   {
    "duration": 177,
    "start_time": "2022-01-09T15:36:50.700Z"
   },
   {
    "duration": 187,
    "start_time": "2022-01-09T15:37:36.313Z"
   },
   {
    "duration": 412,
    "start_time": "2022-01-09T15:37:48.952Z"
   },
   {
    "duration": 293,
    "start_time": "2022-01-09T15:38:01.356Z"
   },
   {
    "duration": 347,
    "start_time": "2022-01-09T15:38:20.566Z"
   },
   {
    "duration": 176,
    "start_time": "2022-01-09T15:38:44.846Z"
   },
   {
    "duration": 175,
    "start_time": "2022-01-09T15:39:00.470Z"
   },
   {
    "duration": 179,
    "start_time": "2022-01-09T15:47:45.399Z"
   },
   {
    "duration": 5,
    "start_time": "2022-01-09T15:47:54.890Z"
   },
   {
    "duration": 9,
    "start_time": "2022-01-09T15:48:03.479Z"
   },
   {
    "duration": 5,
    "start_time": "2022-01-09T15:48:29.281Z"
   },
   {
    "duration": 7,
    "start_time": "2022-01-09T15:48:36.802Z"
   },
   {
    "duration": 62,
    "start_time": "2022-01-09T15:48:47.841Z"
   },
   {
    "duration": 181,
    "start_time": "2022-01-09T15:48:51.183Z"
   },
   {
    "duration": 185,
    "start_time": "2022-01-09T15:49:00.723Z"
   },
   {
    "duration": 6,
    "start_time": "2022-01-09T15:49:14.109Z"
   },
   {
    "duration": 197,
    "start_time": "2022-01-09T15:49:14.640Z"
   },
   {
    "duration": 2,
    "start_time": "2022-01-09T15:49:22.223Z"
   },
   {
    "duration": 7,
    "start_time": "2022-01-09T15:49:24.891Z"
   },
   {
    "duration": 241,
    "start_time": "2022-01-09T15:49:30.786Z"
   },
   {
    "duration": 9,
    "start_time": "2022-01-09T15:49:42.544Z"
   },
   {
    "duration": 9479,
    "start_time": "2022-01-09T15:49:53.005Z"
   },
   {
    "duration": 8,
    "start_time": "2022-01-09T15:50:02.486Z"
   },
   {
    "duration": 199,
    "start_time": "2022-01-09T15:50:13.211Z"
   },
   {
    "duration": 8,
    "start_time": "2022-01-09T15:50:18.438Z"
   },
   {
    "duration": 4,
    "start_time": "2022-01-09T15:50:33.017Z"
   },
   {
    "duration": 10,
    "start_time": "2022-01-09T15:51:23.071Z"
   },
   {
    "duration": 261,
    "start_time": "2022-01-09T15:51:37.181Z"
   },
   {
    "duration": 378,
    "start_time": "2022-01-09T15:51:51.929Z"
   },
   {
    "duration": 9654,
    "start_time": "2022-01-09T15:52:48.319Z"
   },
   {
    "duration": 9,
    "start_time": "2022-01-09T15:52:57.975Z"
   },
   {
    "duration": 280,
    "start_time": "2022-01-09T15:53:00.429Z"
   },
   {
    "duration": 297,
    "start_time": "2022-01-09T15:54:33.997Z"
   },
   {
    "duration": 339,
    "start_time": "2022-01-09T15:56:23.053Z"
   },
   {
    "duration": 313,
    "start_time": "2022-01-09T15:56:49.553Z"
   },
   {
    "duration": 362,
    "start_time": "2022-01-09T15:57:27.024Z"
   },
   {
    "duration": 291,
    "start_time": "2022-01-09T15:57:37.062Z"
   },
   {
    "duration": 369,
    "start_time": "2022-01-09T15:57:41.482Z"
   },
   {
    "duration": 343,
    "start_time": "2022-01-09T15:57:45.880Z"
   },
   {
    "duration": 746,
    "start_time": "2022-01-09T15:58:15.521Z"
   },
   {
    "duration": 483,
    "start_time": "2022-01-09T15:58:31.391Z"
   },
   {
    "duration": 464,
    "start_time": "2022-01-09T15:58:39.777Z"
   },
   {
    "duration": 431,
    "start_time": "2022-01-09T15:59:08.666Z"
   },
   {
    "duration": 463,
    "start_time": "2022-01-09T15:59:20.795Z"
   },
   {
    "duration": 355,
    "start_time": "2022-01-09T16:00:29.271Z"
   },
   {
    "duration": 462,
    "start_time": "2022-01-09T16:00:36.391Z"
   },
   {
    "duration": 425,
    "start_time": "2022-01-09T16:01:31.777Z"
   },
   {
    "duration": 5,
    "start_time": "2022-01-09T16:02:10.937Z"
   },
   {
    "duration": 433,
    "start_time": "2022-01-09T16:02:34.314Z"
   },
   {
    "duration": 605,
    "start_time": "2022-01-09T16:02:53.178Z"
   },
   {
    "duration": 479,
    "start_time": "2022-01-09T16:03:05.424Z"
   },
   {
    "duration": 567,
    "start_time": "2022-01-09T16:03:25.017Z"
   },
   {
    "duration": 453,
    "start_time": "2022-01-09T16:03:57.313Z"
   },
   {
    "duration": 468,
    "start_time": "2022-01-09T16:04:08.861Z"
   },
   {
    "duration": 474,
    "start_time": "2022-01-09T16:04:32.672Z"
   },
   {
    "duration": 477,
    "start_time": "2022-01-09T16:04:39.043Z"
   },
   {
    "duration": 491,
    "start_time": "2022-01-09T16:05:00.472Z"
   },
   {
    "duration": 66,
    "start_time": "2022-01-09T16:05:23.567Z"
   },
   {
    "duration": 470,
    "start_time": "2022-01-09T16:05:32.157Z"
   },
   {
    "duration": 15,
    "start_time": "2022-01-09T16:05:45.288Z"
   },
   {
    "duration": 442,
    "start_time": "2022-01-09T16:05:53.881Z"
   },
   {
    "duration": 14,
    "start_time": "2022-01-09T16:05:56.628Z"
   },
   {
    "duration": 423,
    "start_time": "2022-01-09T16:06:05.881Z"
   },
   {
    "duration": 15,
    "start_time": "2022-01-09T16:06:09.065Z"
   },
   {
    "duration": 10188,
    "start_time": "2022-01-09T16:06:18.876Z"
   },
   {
    "duration": 3481,
    "start_time": "2022-01-09T16:06:29.066Z"
   },
   {
    "duration": 77,
    "start_time": "2022-01-09T16:06:32.473Z"
   },
   {
    "duration": 456,
    "start_time": "2022-01-09T16:06:42.152Z"
   },
   {
    "duration": 9,
    "start_time": "2022-01-09T16:06:46.837Z"
   },
   {
    "duration": 260,
    "start_time": "2022-01-09T16:06:56.405Z"
   },
   {
    "duration": 4,
    "start_time": "2022-01-09T16:06:59.645Z"
   },
   {
    "duration": 215,
    "start_time": "2022-01-09T16:07:09.304Z"
   },
   {
    "duration": 503,
    "start_time": "2022-01-09T16:07:09.819Z"
   },
   {
    "duration": 11,
    "start_time": "2022-01-09T16:15:01.344Z"
   },
   {
    "duration": 234,
    "start_time": "2022-01-09T16:15:22.430Z"
   },
   {
    "duration": 5,
    "start_time": "2022-01-09T16:15:27.550Z"
   },
   {
    "duration": 178,
    "start_time": "2022-01-09T16:15:50.118Z"
   },
   {
    "duration": 5,
    "start_time": "2022-01-09T16:18:20.114Z"
   },
   {
    "duration": 11,
    "start_time": "2022-01-09T16:20:53.101Z"
   },
   {
    "duration": 10,
    "start_time": "2022-01-09T16:25:56.969Z"
   },
   {
    "duration": 11,
    "start_time": "2022-01-09T16:26:08.491Z"
   },
   {
    "duration": 11,
    "start_time": "2022-01-09T16:26:15.808Z"
   },
   {
    "duration": 9509,
    "start_time": "2022-01-09T16:26:39.137Z"
   },
   {
    "duration": 9,
    "start_time": "2022-01-09T16:26:50.232Z"
   },
   {
    "duration": 173,
    "start_time": "2022-01-09T16:27:04.530Z"
   },
   {
    "duration": 15,
    "start_time": "2022-01-09T16:27:10.618Z"
   },
   {
    "duration": 12,
    "start_time": "2022-01-09T16:28:59.779Z"
   },
   {
    "duration": 9,
    "start_time": "2022-01-09T16:32:05.177Z"
   },
   {
    "duration": 9150,
    "start_time": "2022-01-09T16:32:10.899Z"
   },
   {
    "duration": 445,
    "start_time": "2022-01-09T16:32:20.051Z"
   },
   {
    "duration": 5,
    "start_time": "2022-01-09T16:33:35.688Z"
   },
   {
    "duration": 169,
    "start_time": "2022-01-09T16:33:46.613Z"
   },
   {
    "duration": 3,
    "start_time": "2022-01-09T16:34:23.059Z"
   },
   {
    "duration": 9,
    "start_time": "2022-01-09T16:34:30.512Z"
   },
   {
    "duration": 5,
    "start_time": "2022-01-09T16:34:40.635Z"
   },
   {
    "duration": 185,
    "start_time": "2022-01-09T16:34:49.565Z"
   },
   {
    "duration": 774,
    "start_time": "2022-01-09T16:36:02.783Z"
   },
   {
    "duration": 898,
    "start_time": "2022-01-09T16:36:17.404Z"
   },
   {
    "duration": 5577,
    "start_time": "2022-01-09T16:36:49.613Z"
   },
   {
    "duration": 6,
    "start_time": "2022-01-09T16:36:55.193Z"
   },
   {
    "duration": 4,
    "start_time": "2022-01-09T16:36:55.201Z"
   },
   {
    "duration": 5,
    "start_time": "2022-01-09T16:36:55.207Z"
   },
   {
    "duration": 7,
    "start_time": "2022-01-09T16:36:55.213Z"
   },
   {
    "duration": 4,
    "start_time": "2022-01-09T16:36:55.222Z"
   },
   {
    "duration": 9,
    "start_time": "2022-01-09T16:36:55.228Z"
   },
   {
    "duration": 649,
    "start_time": "2022-01-09T16:36:55.238Z"
   },
   {
    "duration": 5390,
    "start_time": "2022-01-09T16:38:11.570Z"
   },
   {
    "duration": 7,
    "start_time": "2022-01-09T16:38:16.962Z"
   },
   {
    "duration": 5,
    "start_time": "2022-01-09T16:38:16.971Z"
   },
   {
    "duration": 13,
    "start_time": "2022-01-09T16:38:16.977Z"
   },
   {
    "duration": 12,
    "start_time": "2022-01-09T16:38:16.992Z"
   },
   {
    "duration": 13,
    "start_time": "2022-01-09T16:38:17.006Z"
   },
   {
    "duration": 18,
    "start_time": "2022-01-09T16:38:17.021Z"
   },
   {
    "duration": 655,
    "start_time": "2022-01-09T16:38:17.041Z"
   },
   {
    "duration": 1213,
    "start_time": "2022-01-09T16:38:48.389Z"
   },
   {
    "duration": 3,
    "start_time": "2022-01-09T16:38:49.604Z"
   },
   {
    "duration": 39,
    "start_time": "2022-01-09T16:38:49.609Z"
   },
   {
    "duration": 11,
    "start_time": "2022-01-09T16:38:49.650Z"
   },
   {
    "duration": 8,
    "start_time": "2022-01-09T16:38:49.663Z"
   },
   {
    "duration": 19,
    "start_time": "2022-01-09T16:38:49.673Z"
   },
   {
    "duration": 4,
    "start_time": "2022-01-09T16:38:49.694Z"
   },
   {
    "duration": 13,
    "start_time": "2022-01-09T16:38:49.701Z"
   },
   {
    "duration": 7,
    "start_time": "2022-01-09T16:38:49.716Z"
   },
   {
    "duration": 8,
    "start_time": "2022-01-09T16:38:49.725Z"
   },
   {
    "duration": 240,
    "start_time": "2022-01-09T16:38:49.735Z"
   },
   {
    "duration": 316,
    "start_time": "2022-01-09T16:38:49.977Z"
   },
   {
    "duration": 147,
    "start_time": "2022-01-09T16:38:50.295Z"
   },
   {
    "duration": 4,
    "start_time": "2022-01-09T16:38:50.444Z"
   },
   {
    "duration": 124,
    "start_time": "2022-01-09T16:38:50.450Z"
   },
   {
    "duration": 3,
    "start_time": "2022-01-09T16:38:50.576Z"
   },
   {
    "duration": 11,
    "start_time": "2022-01-09T16:38:50.581Z"
   },
   {
    "duration": 8,
    "start_time": "2022-01-09T16:38:50.594Z"
   },
   {
    "duration": 8,
    "start_time": "2022-01-09T16:38:50.604Z"
   },
   {
    "duration": 9,
    "start_time": "2022-01-09T16:38:50.613Z"
   },
   {
    "duration": 10,
    "start_time": "2022-01-09T16:38:50.625Z"
   },
   {
    "duration": 64,
    "start_time": "2022-01-09T16:38:50.637Z"
   },
   {
    "duration": 91,
    "start_time": "2022-01-09T16:38:50.707Z"
   },
   {
    "duration": 3373,
    "start_time": "2022-01-09T16:38:50.802Z"
   },
   {
    "duration": 5670,
    "start_time": "2022-01-09T16:38:54.177Z"
   },
   {
    "duration": 6742,
    "start_time": "2022-01-09T16:38:59.849Z"
   },
   {
    "duration": 180,
    "start_time": "2022-01-09T16:39:06.593Z"
   },
   {
    "duration": 7,
    "start_time": "2022-01-09T16:39:06.774Z"
   },
   {
    "duration": 95792,
    "start_time": "2022-01-09T16:39:06.783Z"
   },
   {
    "duration": 109496,
    "start_time": "2022-01-09T16:40:42.577Z"
   },
   {
    "duration": 124761,
    "start_time": "2022-01-09T16:42:32.074Z"
   },
   {
    "duration": 5604,
    "start_time": "2022-01-09T16:44:36.836Z"
   },
   {
    "duration": 6,
    "start_time": "2022-01-09T16:44:42.442Z"
   },
   {
    "duration": 4,
    "start_time": "2022-01-09T16:44:42.450Z"
   },
   {
    "duration": 5,
    "start_time": "2022-01-09T16:44:42.455Z"
   },
   {
    "duration": 5,
    "start_time": "2022-01-09T16:44:42.462Z"
   },
   {
    "duration": 5,
    "start_time": "2022-01-09T16:44:42.469Z"
   },
   {
    "duration": 10,
    "start_time": "2022-01-09T16:44:42.476Z"
   },
   {
    "duration": 422,
    "start_time": "2022-01-09T16:44:42.488Z"
   },
   {
    "duration": 62,
    "start_time": "2022-01-09T17:09:47.504Z"
   },
   {
    "duration": 176,
    "start_time": "2022-01-09T17:09:47.392Z"
   },
   {
    "duration": 427,
    "start_time": "2022-01-09T17:09:55.574Z"
   },
   {
    "duration": 1173,
    "start_time": "2022-01-10T08:20:26.805Z"
   },
   {
    "duration": 2,
    "start_time": "2022-01-10T08:20:27.980Z"
   },
   {
    "duration": 43,
    "start_time": "2022-01-10T08:20:27.984Z"
   },
   {
    "duration": 11,
    "start_time": "2022-01-10T08:20:28.029Z"
   },
   {
    "duration": 7,
    "start_time": "2022-01-10T08:20:28.042Z"
   },
   {
    "duration": 5,
    "start_time": "2022-01-10T08:20:28.050Z"
   },
   {
    "duration": 5,
    "start_time": "2022-01-10T08:20:28.056Z"
   },
   {
    "duration": 29,
    "start_time": "2022-01-10T08:20:28.064Z"
   },
   {
    "duration": 3,
    "start_time": "2022-01-10T08:20:28.095Z"
   },
   {
    "duration": 9,
    "start_time": "2022-01-10T08:20:28.100Z"
   },
   {
    "duration": 228,
    "start_time": "2022-01-10T08:20:28.111Z"
   },
   {
    "duration": 303,
    "start_time": "2022-01-10T08:20:28.341Z"
   },
   {
    "duration": 141,
    "start_time": "2022-01-10T08:20:28.646Z"
   },
   {
    "duration": 4,
    "start_time": "2022-01-10T08:20:28.791Z"
   },
   {
    "duration": 111,
    "start_time": "2022-01-10T08:20:28.796Z"
   },
   {
    "duration": 3,
    "start_time": "2022-01-10T08:20:28.909Z"
   },
   {
    "duration": 10,
    "start_time": "2022-01-10T08:20:28.914Z"
   },
   {
    "duration": 8,
    "start_time": "2022-01-10T08:20:28.926Z"
   },
   {
    "duration": 17,
    "start_time": "2022-01-10T08:20:28.936Z"
   },
   {
    "duration": 12,
    "start_time": "2022-01-10T08:20:28.954Z"
   },
   {
    "duration": 28,
    "start_time": "2022-01-10T08:20:28.967Z"
   },
   {
    "duration": 9,
    "start_time": "2022-01-10T08:20:28.998Z"
   },
   {
    "duration": 12,
    "start_time": "2022-01-10T08:20:29.092Z"
   },
   {
    "duration": 2943,
    "start_time": "2022-01-10T08:20:29.191Z"
   },
   {
    "duration": 5078,
    "start_time": "2022-01-10T08:20:32.135Z"
   },
   {
    "duration": 6113,
    "start_time": "2022-01-10T08:20:37.215Z"
   },
   {
    "duration": 184,
    "start_time": "2022-01-10T08:20:43.330Z"
   },
   {
    "duration": 7,
    "start_time": "2022-01-10T08:20:43.516Z"
   },
   {
    "duration": 132338,
    "start_time": "2022-01-10T08:20:43.524Z"
   },
   {
    "duration": 142106,
    "start_time": "2022-01-10T08:22:55.864Z"
   },
   {
    "duration": 141893,
    "start_time": "2022-01-10T08:25:17.972Z"
   },
   {
    "duration": 9592,
    "start_time": "2022-01-10T08:27:39.867Z"
   },
   {
    "duration": 6,
    "start_time": "2022-01-10T08:27:49.460Z"
   },
   {
    "duration": 9,
    "start_time": "2022-01-10T08:27:49.468Z"
   },
   {
    "duration": 7,
    "start_time": "2022-01-10T08:27:49.479Z"
   },
   {
    "duration": 8,
    "start_time": "2022-01-10T08:27:49.487Z"
   },
   {
    "duration": 7,
    "start_time": "2022-01-10T08:27:49.496Z"
   },
   {
    "duration": 13,
    "start_time": "2022-01-10T08:27:49.504Z"
   },
   {
    "duration": 460,
    "start_time": "2022-01-10T08:27:49.518Z"
   },
   {
    "duration": 7,
    "start_time": "2022-01-10T08:30:08.531Z"
   },
   {
    "duration": 2918,
    "start_time": "2022-01-10T08:30:08.933Z"
   },
   {
    "duration": 8,
    "start_time": "2022-01-10T08:30:22.716Z"
   },
   {
    "duration": 2888,
    "start_time": "2022-01-10T08:30:23.116Z"
   },
   {
    "duration": 8,
    "start_time": "2022-01-10T08:30:34.545Z"
   },
   {
    "duration": 2932,
    "start_time": "2022-01-10T08:30:34.877Z"
   },
   {
    "duration": 5146,
    "start_time": "2022-01-10T08:30:37.811Z"
   },
   {
    "duration": 5871,
    "start_time": "2022-01-10T08:30:42.959Z"
   },
   {
    "duration": 11609,
    "start_time": "2022-01-10T08:31:19.032Z"
   },
   {
    "duration": 6,
    "start_time": "2022-01-10T08:31:30.643Z"
   },
   {
    "duration": 17,
    "start_time": "2022-01-10T08:31:30.652Z"
   },
   {
    "duration": 9,
    "start_time": "2022-01-10T08:31:30.671Z"
   },
   {
    "duration": 9,
    "start_time": "2022-01-10T08:31:30.682Z"
   },
   {
    "duration": 6,
    "start_time": "2022-01-10T08:31:30.692Z"
   },
   {
    "duration": 13,
    "start_time": "2022-01-10T08:31:30.700Z"
   },
   {
    "duration": 465,
    "start_time": "2022-01-10T08:31:30.716Z"
   }
  ],
  "kernelspec": {
   "display_name": "Python 3",
   "language": "python",
   "name": "python3"
  },
  "language_info": {
   "codemirror_mode": {
    "name": "ipython",
    "version": 3
   },
   "file_extension": ".py",
   "mimetype": "text/x-python",
   "name": "python",
   "nbconvert_exporter": "python",
   "pygments_lexer": "ipython3",
   "version": "3.8.8"
  },
  "toc": {
   "base_numbering": 1,
   "nav_menu": {},
   "number_sections": true,
   "sideBar": true,
   "skip_h1_title": true,
   "title_cell": "Table of Contents",
   "title_sidebar": "Contents",
   "toc_cell": false,
   "toc_position": {},
   "toc_section_display": true,
   "toc_window_display": false
  }
 },
 "nbformat": 4,
 "nbformat_minor": 5
}
